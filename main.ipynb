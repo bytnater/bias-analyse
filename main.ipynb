{
 "cells": [
  {
   "cell_type": "markdown",
   "id": "d23b2888",
   "metadata": {},
   "source": [
    "### Welcome to the program\n",
    "Anything you will need will be in this file.\n",
    "\n",
    "First let some modules to download"
   ]
  },
  {
   "cell_type": "code",
   "execution_count": null,
   "id": "10cd3106",
   "metadata": {},
   "outputs": [],
   "source": [
    "!pip install ipywidgets;\n"
   ]
  },
  {
   "cell_type": "code",
   "execution_count": null,
   "id": "92de094d",
   "metadata": {},
   "outputs": [],
   "source": [
    "import utils\n",
    "import os\n",
    "\n",
    "import ipywidgets as widgets\n",
    "from IPython.display import display\n",
    "\n",
    "\n",
    "from fairness_metrics.predicted_probs.balance_in_pos_neg import balance_in_pos_neg"
   ]
  },
  {
   "cell_type": "code",
   "execution_count": null,
   "id": "25981db8",
   "metadata": {},
   "outputs": [],
   "source": [
    "data, (i2c, c2i) = utils.load_csv_to_torch(utils.DATA_PATH_SYNTH)\n",
    "\n",
    "INPUT_FILE_NAME = widgets.Text(\n",
    "    placeholder='Type file name',\n",
    "    description='File name:',\n",
    "    tooltip='do not forget the file extension'\n",
    ")\n",
    "PRESET_FILENAME = INPUT_FILE_NAME.value if INPUT_FILE_NAME.value else 'No file'\n",
    "# file_exits = os.path.exists(utils.SAVED_PRESET_PATH + PRESET_FILENAME)\n",
    "file_exits = os.path.exists('checkpoints/presets/' + PRESET_FILENAME)\n",
    "FILE_FOUND = widgets.Valid(\n",
    "    value=file_exits,\n",
    "    style = {'description_width': 'initial'},\n",
    "    description=f'Preset file \"{PRESET_FILENAME}\"',\n",
    "    tooltip='Indicates if the chosen file has been found'\n",
    ")\n",
    "PRESET = widgets.RadioButtons(\n",
    "    options=[('Yes', 1), ('No', 0)],\n",
    "    value=file_exits,\n",
    "    disabled=not(file_exits),\n",
    "    style = {'description_width': 'initial'},\n",
    "    description='Use preset file:',\n",
    ")\n",
    "\n",
    "info_box = widgets.VBox([\n",
    "    INPUT_FILE_NAME,\n",
    "    FILE_FOUND,\n",
    "    PRESET,\n",
    "])\n",
    "\n",
    "output = widgets.Output()\n",
    "display(info_box, output)\n",
    "\n",
    "def update_file_name_info(b):\n",
    "    with output:\n",
    "        PRESET_FILENAME = INPUT_FILE_NAME.value if INPUT_FILE_NAME.value else 'No file'\n",
    "        file_exits = os.path.exists('checkpoints/presets/' + PRESET_FILENAME)\n",
    "        FILE_FOUND.description = f'Preset file \"{PRESET_FILENAME}\"'\n",
    "        FILE_FOUND.value = file_exits\n",
    "        PRESET.value = file_exits\n",
    "        PRESET.disabled=not(file_exits)\n",
    "\n",
    "INPUT_FILE_NAME.on_submit(update_file_name_info)"
   ]
  },
  {
   "cell_type": "code",
   "execution_count": null,
   "id": "6b632587",
   "metadata": {},
   "outputs": [],
   "source": [
    "# testing column selection\n",
    "\n",
    "from ipywidgets import Layout, VBox, Label, Box, Checkbox\n",
    "\n",
    "style = {'background':'white'}\n",
    "item_layout = Layout(width='auto')\n",
    "\n",
    "protected_items = [Checkbox(layout=item_layout, description=i2c[i], indent=False, style=style) for i in range(len(i2c))]\n",
    "\n",
    "if PRESET.value:\n",
    "    for item, value in zip(protected_items, protected_values):\n",
    "        item.value = value\n",
    "\n",
    "box_layout = Layout(overflow='hidden scroll',\n",
    "                    border='empty',\n",
    "                    width='auto',\n",
    "                    height='300px',\n",
    "                    flex_flow='column',\n",
    "                    display='flex',\n",
    "                    padding='0')\n",
    "\n",
    "carousel = Box(children=protected_items, layout=box_layout)\n",
    "VBox([Label('Please select all protected variables:'), carousel])\n",
    "# carousel.layout.keys"
   ]
  },
  {
   "cell_type": "code",
   "execution_count": null,
   "id": "5f76701c",
   "metadata": {},
   "outputs": [],
   "source": [
    "protected_values = [protected_item.value for protected_item in protected_items]\n",
    "print(protected_values)"
   ]
  }
 ],
 "metadata": {
  "kernelspec": {
   "display_name": "base",
   "language": "python",
   "name": "python3"
  },
  "language_info": {
   "codemirror_mode": {
    "name": "ipython",
    "version": 3
   },
   "file_extension": ".py",
   "mimetype": "text/x-python",
   "name": "python",
   "nbconvert_exporter": "python",
   "pygments_lexer": "ipython3",
   "version": "3.12.2"
  }
 },
 "nbformat": 4,
 "nbformat_minor": 5
}
