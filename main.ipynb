{
 "cells": [
  {
   "cell_type": "markdown",
   "id": "d23b2888",
   "metadata": {},
   "source": [
    "### Welcome to the program\n",
    "Anything you will need will be in this file.\n",
    "\n",
    "First let some modules to download"
   ]
  },
  {
   "cell_type": "code",
   "execution_count": 1,
   "id": "10cd3106",
   "metadata": {},
   "outputs": [
    {
     "name": "stdout",
     "output_type": "stream",
     "text": [
      "Requirement already satisfied: ipywidgets in /home/itsmick_/miniconda3/lib/python3.12/site-packages (8.1.5)\n",
      "Requirement already satisfied: comm>=0.1.3 in /home/itsmick_/miniconda3/lib/python3.12/site-packages (from ipywidgets) (0.2.2)\n",
      "Requirement already satisfied: ipython>=6.1.0 in /home/itsmick_/miniconda3/lib/python3.12/site-packages (from ipywidgets) (8.25.0)\n",
      "Requirement already satisfied: traitlets>=4.3.1 in /home/itsmick_/miniconda3/lib/python3.12/site-packages (from ipywidgets) (5.14.3)\n",
      "Requirement already satisfied: widgetsnbextension~=4.0.12 in /home/itsmick_/miniconda3/lib/python3.12/site-packages (from ipywidgets) (4.0.13)\n",
      "Requirement already satisfied: jupyterlab-widgets~=3.0.12 in /home/itsmick_/miniconda3/lib/python3.12/site-packages (from ipywidgets) (3.0.13)\n",
      "Requirement already satisfied: decorator in /home/itsmick_/miniconda3/lib/python3.12/site-packages (from ipython>=6.1.0->ipywidgets) (5.1.1)\n",
      "Requirement already satisfied: jedi>=0.16 in /home/itsmick_/miniconda3/lib/python3.12/site-packages (from ipython>=6.1.0->ipywidgets) (0.19.1)\n",
      "Requirement already satisfied: matplotlib-inline in /home/itsmick_/miniconda3/lib/python3.12/site-packages (from ipython>=6.1.0->ipywidgets) (0.1.7)\n",
      "Requirement already satisfied: prompt-toolkit<3.1.0,>=3.0.41 in /home/itsmick_/miniconda3/lib/python3.12/site-packages (from ipython>=6.1.0->ipywidgets) (3.0.46)\n",
      "Requirement already satisfied: pygments>=2.4.0 in /home/itsmick_/miniconda3/lib/python3.12/site-packages (from ipython>=6.1.0->ipywidgets) (2.18.0)\n",
      "Requirement already satisfied: stack-data in /home/itsmick_/miniconda3/lib/python3.12/site-packages (from ipython>=6.1.0->ipywidgets) (0.6.3)\n",
      "Requirement already satisfied: pexpect>4.3 in /home/itsmick_/miniconda3/lib/python3.12/site-packages (from ipython>=6.1.0->ipywidgets) (4.9.0)\n",
      "Requirement already satisfied: wcwidth in /home/itsmick_/miniconda3/lib/python3.12/site-packages (from prompt-toolkit<3.1.0,>=3.0.41->ipython>=6.1.0->ipywidgets) (0.2.13)\n",
      "Requirement already satisfied: parso<0.9.0,>=0.8.3 in /home/itsmick_/miniconda3/lib/python3.12/site-packages (from jedi>=0.16->ipython>=6.1.0->ipywidgets) (0.8.4)\n",
      "Requirement already satisfied: ptyprocess>=0.5 in /home/itsmick_/miniconda3/lib/python3.12/site-packages (from pexpect>4.3->ipython>=6.1.0->ipywidgets) (0.7.0)\n",
      "Requirement already satisfied: executing>=1.2.0 in /home/itsmick_/miniconda3/lib/python3.12/site-packages (from stack-data->ipython>=6.1.0->ipywidgets) (2.0.1)\n",
      "Requirement already satisfied: asttokens>=2.1.0 in /home/itsmick_/miniconda3/lib/python3.12/site-packages (from stack-data->ipython>=6.1.0->ipywidgets) (2.4.1)\n",
      "Requirement already satisfied: pure-eval in /home/itsmick_/miniconda3/lib/python3.12/site-packages (from stack-data->ipython>=6.1.0->ipywidgets) (0.2.2)\n",
      "Requirement already satisfied: six>=1.12.0 in /home/itsmick_/miniconda3/lib/python3.12/site-packages (from asttokens>=2.1.0->stack-data->ipython>=6.1.0->ipywidgets) (1.16.0)\n"
     ]
    }
   ],
   "source": [
    "!pip install ipywidgets;\n"
   ]
  },
  {
   "cell_type": "code",
   "execution_count": 2,
   "id": "92de094d",
   "metadata": {},
   "outputs": [],
   "source": [
    "import utils\n",
    "import os\n",
    "\n",
    "import ipywidgets as widgets\n",
    "from IPython.display import display\n",
    "\n",
    "\n",
    "from fairness_metrics.predicted_probs.balance_in_pos_neg import balance_in_pos_neg"
   ]
  },
  {
   "cell_type": "code",
   "execution_count": 3,
   "id": "25981db8",
   "metadata": {},
   "outputs": [
    {
     "data": {
      "application/vnd.jupyter.widget-view+json": {
       "model_id": "0dff23697a8d480985ed8fbd1e915625",
       "version_major": 2,
       "version_minor": 0
      },
      "text/plain": [
       "VBox(children=(Text(value='', description='File name:', placeholder='Type file name', tooltip='do not forget t…"
      ]
     },
     "metadata": {},
     "output_type": "display_data"
    },
    {
     "data": {
      "application/vnd.jupyter.widget-view+json": {
       "model_id": "9bad90d8b4944d51b3ebc05274770024",
       "version_major": 2,
       "version_minor": 0
      },
      "text/plain": [
       "Output()"
      ]
     },
     "metadata": {},
     "output_type": "display_data"
    },
    {
     "name": "stderr",
     "output_type": "stream",
     "text": [
      "/tmp/ipykernel_252239/970614545.py:43: DeprecationWarning: on_submit is deprecated. Instead, set the .continuous_update attribute to False and observe the value changing with: mywidget.observe(callback, 'value').\n",
      "  INPUT_FILE_NAME.on_submit(update_file_name_info)\n"
     ]
    }
   ],
   "source": [
    "data, (i2c, c2i) = utils.load_csv_to_torch(utils.DATA_PATH_SYNTH)\n",
    "\n",
    "INPUT_FILE_NAME = widgets.Text(\n",
    "    placeholder='Type file name',\n",
    "    description='File name:',\n",
    "    tooltip='do not forget the file extension'\n",
    ")\n",
    "PRESET_FILENAME = INPUT_FILE_NAME.value if INPUT_FILE_NAME.value else 'No file'\n",
    "# file_exits = os.path.exists(utils.SAVED_PRESET_PATH + PRESET_FILENAME)\n",
    "file_exits = os.path.exists('checkpoints/presets/' + PRESET_FILENAME)\n",
    "FILE_FOUND = widgets.Valid(\n",
    "    value=file_exits,\n",
    "    style = {'description_width': 'initial'},\n",
    "    description=f'Preset file \"{PRESET_FILENAME}\"',\n",
    "    tooltip='Indicates if the chosen file has been found'\n",
    ")\n",
    "PRESET = widgets.RadioButtons(\n",
    "    options=[('Yes', 1), ('No', 0)],\n",
    "    value=file_exits,\n",
    "    disabled=not(file_exits),\n",
    "    style = {'description_width': 'initial'},\n",
    "    description='Use preset file:',\n",
    ")\n",
    "\n",
    "info_box = widgets.VBox([\n",
    "    INPUT_FILE_NAME,\n",
    "    FILE_FOUND,\n",
    "    PRESET,\n",
    "])\n",
    "\n",
    "output = widgets.Output()\n",
    "display(info_box, output)\n",
    "\n",
    "def update_file_name_info(b):\n",
    "    with output:\n",
    "        PRESET_FILENAME = INPUT_FILE_NAME.value if INPUT_FILE_NAME.value else 'No file'\n",
    "        file_exits = os.path.exists('checkpoints/presets/' + PRESET_FILENAME)\n",
    "        FILE_FOUND.description = f'Preset file \"{PRESET_FILENAME}\"'\n",
    "        FILE_FOUND.value = file_exits\n",
    "        PRESET.value = file_exits\n",
    "        PRESET.disabled=not(file_exits)\n",
    "\n",
    "INPUT_FILE_NAME.on_submit(update_file_name_info)"
   ]
  },
  {
   "cell_type": "code",
   "execution_count": 4,
   "id": "6b632587",
   "metadata": {},
   "outputs": [
    {
     "data": {
      "application/vnd.jupyter.widget-view+json": {
       "model_id": "cdcefe49bc04460cb9d3103ba15744a6",
       "version_major": 2,
       "version_minor": 0
      },
      "text/plain": [
       "VBox(children=(Label(value='Please select all protected variables:'), Box(children=(Checkbox(value=False, desc…"
      ]
     },
     "execution_count": 4,
     "metadata": {},
     "output_type": "execute_result"
    }
   ],
   "source": [
    "# testing column selection\n",
    "\n",
    "from ipywidgets import Layout, VBox, Label, Box, Checkbox\n",
    "\n",
    "style = {'background':'white'}\n",
    "item_layout = Layout(width='auto')\n",
    "\n",
    "protected_items = [Checkbox(layout=item_layout, description=i2c[i], indent=False, style=style) for i in range(len(i2c))]\n",
    "\n",
    "if PRESET.value:\n",
    "    for item, value in zip(protected_items, protected_values):\n",
    "        item.value = value\n",
    "\n",
    "box_layout = Layout(overflow='hidden scroll',\n",
    "                    border='empty',\n",
    "                    width='auto',\n",
    "                    height='300px',\n",
    "                    flex_flow='column',\n",
    "                    display='flex',\n",
    "                    padding='0')\n",
    "\n",
    "carousel = Box(children=protected_items, layout=box_layout)\n",
    "VBox([Label('Please select all protected variables:'), carousel])\n",
    "# carousel.layout.keys"
   ]
  },
  {
   "cell_type": "code",
   "execution_count": 5,
   "id": "5f76701c",
   "metadata": {},
   "outputs": [
    {
     "name": "stdout",
     "output_type": "stream",
     "text": [
      "[False, False, False, False, False, False, False, False, False, False, False, False, False, False, False, False, False, False, False, False, False, False, False, False, False, False, False, False, False, False, False, False, False, False, False, False, False, False, False, False, False, False, False, False, False, False, False, False, False, False, False, False, False, False, False, False, False, False, False, False, False, False, False, False, False, False, False, False, False, False, False, False, False, False, False, False, False, False, False, False, False, False, False, False, False, False, False, False, False, False, False, False, False, False, False, False, False, False, False, False, False, False, False, False, False, False, False, False, False, False, False, False, False, False, False, False, False, False, False, False, False, False, False, False, False, False, False, False, False, False, False, False, False, False, False, False, False, False, False, False, False, False, False, False, False, False, False, False, False, False, False, False, False, False, False, False, False, False, False, False, False, False, False, False, False, False, False, False, False, False, False, False, False, False, False, False, False, False, False, False, False, False, False, False, False, False, False, False, False, False, False, False, False, False, False, False, False, False, False, False, False, False, False, False, False, False, False, False, False, False, False, False, False, False, False, False, False, False, False, False, False, False, False, False, False, False, False, False, False, False, False, False, False, False, False, False, False, False, False, False, False, False, False, False, False, False, False, False, False, False, False, False, False, False, False, False, False, False, False, False, False, False, False, False, False, False, False, False, False, False, False, False, False, False, False, False, False, False, False, False, False, False, False, False, False, False, False, False, False, False, False, False, False, False, False, False, False, False, False, False, False, False, False, False, False, False, False, False, False, False, False, False, False, False, False]\n"
     ]
    }
   ],
   "source": [
    "protected_values = [protected_item.value for protected_item in protected_items]\n",
    "print(protected_values)"
   ]
  }
 ],
 "metadata": {
  "kernelspec": {
   "display_name": "base",
   "language": "python",
   "name": "python3"
  },
  "language_info": {
   "codemirror_mode": {
    "name": "ipython",
    "version": 3
   },
   "file_extension": ".py",
   "mimetype": "text/x-python",
   "name": "python",
   "nbconvert_exporter": "python",
   "pygments_lexer": "ipython3",
   "version": "3.12.2"
  }
 },
 "nbformat": 4,
 "nbformat_minor": 5
}
