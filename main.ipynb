{
 "cells": [
  {
   "cell_type": "markdown",
   "id": "d23b2888",
   "metadata": {},
   "source": [
    "### Welcome to the program\n",
    "Anything you will need will be in this file.\n",
    "\n",
    "First let some modules to download"
   ]
  },
  {
   "cell_type": "code",
   "execution_count": 2,
   "id": "10cd3106",
   "metadata": {},
   "outputs": [
    {
     "name": "stdout",
     "output_type": "stream",
     "text": [
      "Requirement already satisfied: ipywidgets in /home/itsmick_/miniconda3/lib/python3.12/site-packages (8.1.5)\n",
      "Requirement already satisfied: comm>=0.1.3 in /home/itsmick_/miniconda3/lib/python3.12/site-packages (from ipywidgets) (0.2.2)\n",
      "Requirement already satisfied: ipython>=6.1.0 in /home/itsmick_/miniconda3/lib/python3.12/site-packages (from ipywidgets) (8.25.0)\n",
      "Requirement already satisfied: traitlets>=4.3.1 in /home/itsmick_/miniconda3/lib/python3.12/site-packages (from ipywidgets) (5.14.3)\n",
      "Requirement already satisfied: widgetsnbextension~=4.0.12 in /home/itsmick_/miniconda3/lib/python3.12/site-packages (from ipywidgets) (4.0.13)\n",
      "Requirement already satisfied: jupyterlab-widgets~=3.0.12 in /home/itsmick_/miniconda3/lib/python3.12/site-packages (from ipywidgets) (3.0.13)\n",
      "Requirement already satisfied: decorator in /home/itsmick_/miniconda3/lib/python3.12/site-packages (from ipython>=6.1.0->ipywidgets) (5.1.1)\n",
      "Requirement already satisfied: jedi>=0.16 in /home/itsmick_/miniconda3/lib/python3.12/site-packages (from ipython>=6.1.0->ipywidgets) (0.19.1)\n",
      "Requirement already satisfied: matplotlib-inline in /home/itsmick_/miniconda3/lib/python3.12/site-packages (from ipython>=6.1.0->ipywidgets) (0.1.7)\n",
      "Requirement already satisfied: prompt-toolkit<3.1.0,>=3.0.41 in /home/itsmick_/miniconda3/lib/python3.12/site-packages (from ipython>=6.1.0->ipywidgets) (3.0.46)\n",
      "Requirement already satisfied: pygments>=2.4.0 in /home/itsmick_/miniconda3/lib/python3.12/site-packages (from ipython>=6.1.0->ipywidgets) (2.18.0)\n",
      "Requirement already satisfied: stack-data in /home/itsmick_/miniconda3/lib/python3.12/site-packages (from ipython>=6.1.0->ipywidgets) (0.6.3)\n",
      "Requirement already satisfied: pexpect>4.3 in /home/itsmick_/miniconda3/lib/python3.12/site-packages (from ipython>=6.1.0->ipywidgets) (4.9.0)\n",
      "Requirement already satisfied: wcwidth in /home/itsmick_/miniconda3/lib/python3.12/site-packages (from prompt-toolkit<3.1.0,>=3.0.41->ipython>=6.1.0->ipywidgets) (0.2.13)\n",
      "Requirement already satisfied: parso<0.9.0,>=0.8.3 in /home/itsmick_/miniconda3/lib/python3.12/site-packages (from jedi>=0.16->ipython>=6.1.0->ipywidgets) (0.8.4)\n",
      "Requirement already satisfied: ptyprocess>=0.5 in /home/itsmick_/miniconda3/lib/python3.12/site-packages (from pexpect>4.3->ipython>=6.1.0->ipywidgets) (0.7.0)\n",
      "Requirement already satisfied: executing>=1.2.0 in /home/itsmick_/miniconda3/lib/python3.12/site-packages (from stack-data->ipython>=6.1.0->ipywidgets) (2.0.1)\n",
      "Requirement already satisfied: asttokens>=2.1.0 in /home/itsmick_/miniconda3/lib/python3.12/site-packages (from stack-data->ipython>=6.1.0->ipywidgets) (2.4.1)\n",
      "Requirement already satisfied: pure-eval in /home/itsmick_/miniconda3/lib/python3.12/site-packages (from stack-data->ipython>=6.1.0->ipywidgets) (0.2.2)\n",
      "Requirement already satisfied: six>=1.12.0 in /home/itsmick_/miniconda3/lib/python3.12/site-packages (from asttokens>=2.1.0->stack-data->ipython>=6.1.0->ipywidgets) (1.16.0)\n"
     ]
    }
   ],
   "source": [
    "!pip install ipywidgets;\n"
   ]
  },
  {
   "cell_type": "code",
   "execution_count": 1,
   "id": "92de094d",
   "metadata": {},
   "outputs": [],
   "source": [
    "import utils\n",
    "import os\n",
    "\n",
    "import warnings\n",
    "import torch\n",
    "\n",
    "import ipywidgets as widgets\n",
    "from ipywidgets import Layout, VBox, Label, Box, Checkbox, Button, RadioButtons, Valid, Text, Combobox, Accordion, IntText\n",
    "from IPython.display import display\n",
    "\n",
    "from fairness_metrics.Predicted_outcomes.Error_rate_metrics import Error_rate_metrics\n",
    "from fairness_metrics.Predicted_outcomes.Predictive_value_metrics import Predictive_value_metrics\n",
    "from fairness_metrics.Predicted_outcomes.statistical_parity import statistical_parity\n",
    "from fairness_metrics.predicted_probs.balance_in_pos_neg import balance_in_pos_neg\n",
    "from fairness_metrics.predicted_probs.well_callibrated import well_calibration\n",
    "from fairness_metrics.similarity_based.similarity_based import LipschitzFairness\n",
    "\n",
    "# warnings.filterwarnings('ignore')"
   ]
  },
  {
   "cell_type": "code",
   "execution_count": 2,
   "id": "16402f73",
   "metadata": {},
   "outputs": [
    {
     "data": {
      "application/vnd.jupyter.widget-view+json": {
       "model_id": "d29b16f49ee54a8abf6eab49f3cf1344",
       "version_major": 2,
       "version_minor": 0
      },
      "text/plain": [
       "VBox(children=(Label(value='Select your params file here, They must be in the folder \"checkpoints/presets/\"'),…"
      ]
     },
     "metadata": {},
     "output_type": "display_data"
    },
    {
     "data": {
      "application/vnd.jupyter.widget-view+json": {
       "model_id": "76061d2f6f7846d1b6d02fa64a5b51ef",
       "version_major": 2,
       "version_minor": 0
      },
      "text/plain": [
       "Output()"
      ]
     },
     "metadata": {},
     "output_type": "display_data"
    }
   ],
   "source": [
    "# Input file selection\n",
    "INPUT_FILE_NAME = Text(\n",
    "    placeholder='Type file name',\n",
    "    description='File name:',\n",
    "    tooltip='do not forget the file extension'\n",
    ")\n",
    "PRESET_FILENAME = INPUT_FILE_NAME.value if INPUT_FILE_NAME.value else 'No file'\n",
    "file_exits = os.path.exists(utils.SAVED_PRESET_PATH + PRESET_FILENAME)\n",
    "FILE_FOUND = Valid(\n",
    "    value=file_exits,\n",
    "    style = {'description_width': 'initial'},\n",
    "    description=f'Preset file \"{PRESET_FILENAME}\"',\n",
    "    tooltip='Indicates if the chosen file has been found'\n",
    ")\n",
    "USE_PRESET= RadioButtons(\n",
    "    options=[('Yes', 1), ('No', 0)],\n",
    "    value=file_exits,\n",
    "    disabled=not(file_exits),\n",
    "    style = {'description_width': 'initial'},\n",
    "    description='Load params file:',\n",
    ")\n",
    "\n",
    "info_box = VBox([\n",
    "    Label(value=f'Select your params file here, They must be in the folder \"{utils.SAVED_PRESET_PATH}\"'),\n",
    "    INPUT_FILE_NAME,\n",
    "    FILE_FOUND,\n",
    "    USE_PRESET,\n",
    "])\n",
    "\n",
    "output_file_selection = widgets.Output()\n",
    "display(info_box, output_file_selection)\n",
    "\n",
    "def update_file_name_info(_):\n",
    "    with output_file_selection:\n",
    "        PRESET_FILENAME = INPUT_FILE_NAME.value if INPUT_FILE_NAME.value else 'No file'\n",
    "        file_exits = os.path.exists(os.path.join(utils.SAVED_PRESET_PATH + PRESET_FILENAME))\n",
    "        FILE_FOUND.description = f'Preset file \"{PRESET_FILENAME}\"'\n",
    "        FILE_FOUND.value = file_exits\n",
    "        USE_PRESET.value = file_exits\n",
    "        USE_PRESET.disabled=not(file_exits)\n",
    "\n",
    "INPUT_FILE_NAME.on_trait_change(update_file_name_info)"
   ]
  },
  {
   "cell_type": "code",
   "execution_count": 3,
   "id": "25981db8",
   "metadata": {},
   "outputs": [
    {
     "data": {
      "application/vnd.jupyter.widget-view+json": {
       "model_id": "2228c9f168844271b592563ca593d208",
       "version_major": 2,
       "version_minor": 0
      },
      "text/plain": [
       "Label(value='dataset has been loaded')"
      ]
     },
     "metadata": {},
     "output_type": "display_data"
    },
    {
     "data": {
      "application/vnd.jupyter.widget-view+json": {
       "model_id": "bb33661697b84614b8365ab983aff45d",
       "version_major": 2,
       "version_minor": 0
      },
      "text/plain": [
       "Label(value='\"save.pt\" has been loaded')"
      ]
     },
     "metadata": {},
     "output_type": "display_data"
    }
   ],
   "source": [
    "# Data and file loading\n",
    "# dataset = utils.Dataset(utils.DATA_PATH_SYNTH)\n",
    "dataset = utils.Dataset('data/altered_data/alt_data_balenced_pred_biased.csv')\n",
    "display(Label(value='dataset has been loaded'))\n",
    "\n",
    "params = {}\n",
    "if USE_PRESET.value:\n",
    "    params = torch.load(utils.SAVED_PRESET_PATH + INPUT_FILE_NAME.value, weights_only=True)\n",
    "\n",
    "    display(Label(value=f'\"{INPUT_FILE_NAME.value}\" has been loaded'))\n",
    "\n",
    "torch.save(params, utils.SAVED_PRESET_PATH + utils.RESEVERD_PRESET)\n"
   ]
  },
  {
   "cell_type": "code",
   "execution_count": 4,
   "id": "6b632587",
   "metadata": {},
   "outputs": [
    {
     "data": {
      "application/vnd.jupyter.widget-view+json": {
       "model_id": "34d78943ea1e4ec8b3d461e9978a0367",
       "version_major": 2,
       "version_minor": 0
      },
      "text/plain": [
       "VBox(children=(Label(value='Please select the ground truth and the predicted probability (if available):'), Co…"
      ]
     },
     "metadata": {},
     "output_type": "display_data"
    },
    {
     "data": {
      "application/vnd.jupyter.widget-view+json": {
       "model_id": "86cb1c7d05c6440b9ff8478e646d8e06",
       "version_major": 2,
       "version_minor": 0
      },
      "text/plain": [
       "Output()"
      ]
     },
     "metadata": {},
     "output_type": "display_data"
    },
    {
     "data": {
      "application/vnd.jupyter.widget-view+json": {
       "model_id": "dc89198c6ebb4f24877e20e1bae8cdbf",
       "version_major": 2,
       "version_minor": 0
      },
      "text/plain": [
       "Button(button_style='success', description='Save changes', style=ButtonStyle(), tooltip='Save your current sel…"
      ]
     },
     "metadata": {},
     "output_type": "display_data"
    },
    {
     "data": {
      "application/vnd.jupyter.widget-view+json": {
       "model_id": "62b78659db4745ab931f402aea42df96",
       "version_major": 2,
       "version_minor": 0
      },
      "text/plain": [
       "Output()"
      ]
     },
     "metadata": {},
     "output_type": "display_data"
    }
   ],
   "source": [
    "# ground truth, prediction, and protected atrributes selection.\n",
    "params = torch.load(utils.SAVED_PRESET_PATH + utils.RESEVERD_PRESET, weights_only=True)\n",
    "\n",
    "style = {'background':'white'}\n",
    "item_layout = Layout(width='auto')\n",
    "\n",
    "protected_items = [Checkbox(layout=item_layout, description=dataset.i2c[i], indent=False, style=style) for i in range(len(dataset.i2c))]\n",
    "\n",
    "box_layout = Layout(overflow='hidden scroll',\n",
    "                    border='empty',\n",
    "                    width='auto',\n",
    "                    height='300px',\n",
    "                    flex_flow='column',\n",
    "                    display='flex',\n",
    "                    padding='0')\n",
    "\n",
    "PROTECTED_SELECTION = Box(children=protected_items, layout=box_layout)\n",
    "GROUND_SELECTION = Combobox(\n",
    "    value=None,\n",
    "    placeholder='Choose a feature',\n",
    "    options=dataset.i2c+[''],\n",
    "    description='Ground truth:',\n",
    "    ensure_option=True,\n",
    "    style={'description_width':'150px'},\n",
    "    layout=Layout(width='auto'),\n",
    ")\n",
    "PREDICTED_SELECTION = Combobox(\n",
    "    value=None,\n",
    "    placeholder='Choose a feature',\n",
    "    options=dataset.i2c+[''],\n",
    "    description='Predicted by model:',\n",
    "    ensure_option=True,\n",
    "    style={'description_width':'150px'},\n",
    "    layout=Layout(width='auto'),\n",
    ")\n",
    "FEEDBACK_INFO_SLECETION = Label(\n",
    "    value='',\n",
    ")\n",
    "\n",
    "SELECTION_BOX = VBox([\n",
    "    Label('Please select the ground truth and the predicted probability (if available):'), \n",
    "    GROUND_SELECTION,\n",
    "    PREDICTED_SELECTION,\n",
    "    FEEDBACK_INFO_SLECETION,\n",
    "    Label('Please select all protected variables:'), \n",
    "    PROTECTED_SELECTION,\n",
    "    ])\n",
    "\n",
    "## Restore data\n",
    "preset_protected_values = params.get('protected_values', torch.zeros(len(dataset.i2c), dtype=bool))\n",
    "for item, value in zip(protected_items, preset_protected_values):\n",
    "    item.value = bool(value)\n",
    "GROUND_SELECTION.value=params.get('ground_truth_column', '')\n",
    "PREDICTED_SELECTION.value=params.get('prediction_column', '')\n",
    "\n",
    "output_selection = widgets.Output()\n",
    "display(SELECTION_BOX, output_selection)\n",
    "\n",
    "def update_selection_feedback(id):\n",
    "    with output_selection:\n",
    "        if GROUND_SELECTION.value == PREDICTED_SELECTION.value != '':\n",
    "            FEEDBACK_INFO_SLECETION.value=f'Both are now selected as \"{GROUND_SELECTION.value}\", Please make sure that the ground truth is not the same as the predictions'\n",
    "        else:\n",
    "            FEEDBACK_INFO_SLECETION.value='You have selected ' + (f'ground truth as \"{GROUND_SELECTION.value}\"' if GROUND_SELECTION.value else 'no ground truth') + ' and ' + (f'predictions as \"{PREDICTED_SELECTION.value}\"' if PREDICTED_SELECTION.value else 'no predictions')\n",
    "\n",
    "GROUND_SELECTION.on_trait_change(update_selection_feedback)\n",
    "PREDICTED_SELECTION.on_trait_change(update_selection_feedback)\n",
    "SELECTION_BOX.on_widget_constructed(update_selection_feedback)\n",
    "\n",
    "SAVE_CHANGES = Button(\n",
    "    description='Save changes',\n",
    "    button_style='success',\n",
    "    tooltip='Save your current selection',\n",
    ")\n",
    "output_save_changes = widgets.Output()\n",
    "\n",
    "def save_changes(id):\n",
    "    with output_save_changes:\n",
    "        params['protected_values'] = torch.tensor([protected_item.value for protected_item in protected_items])\n",
    "        params['ground_truth_column'] = GROUND_SELECTION.value\n",
    "        params['prediction_column'] = PREDICTED_SELECTION.value\n",
    "        torch.save(params, utils.SAVED_PRESET_PATH + utils.RESEVERD_PRESET)\n",
    "\n",
    "SAVE_CHANGES.on_click(save_changes)\n",
    "\n",
    "display(SAVE_CHANGES, output_save_changes)"
   ]
  },
  {
   "cell_type": "code",
   "execution_count": 5,
   "id": "81cda1b4",
   "metadata": {},
   "outputs": [
    {
     "data": {
      "application/vnd.jupyter.widget-view+json": {
       "model_id": "6f9a8927aedc425e94ce3b96bc0fa895",
       "version_major": 2,
       "version_minor": 0
      },
      "text/plain": [
       "Accordion(children=(Accordion(children=(VBox(children=(Checkbox(value=True, description='Use metric?', indent=…"
      ]
     },
     "metadata": {},
     "output_type": "display_data"
    },
    {
     "data": {
      "application/vnd.jupyter.widget-view+json": {
       "model_id": "e98c2f46f83b41a680a0e6d266d56a27",
       "version_major": 2,
       "version_minor": 0
      },
      "text/plain": [
       "Button(button_style='success', description='Save changes', style=ButtonStyle(), tooltip='Save your current sel…"
      ]
     },
     "metadata": {},
     "output_type": "display_data"
    },
    {
     "data": {
      "application/vnd.jupyter.widget-view+json": {
       "model_id": "3c809ad1920b474dbf0a3bf6a73cdba9",
       "version_major": 2,
       "version_minor": 0
      },
      "text/plain": [
       "Output()"
      ]
     },
     "metadata": {},
     "output_type": "display_data"
    }
   ],
   "source": [
    "params = torch.load(utils.SAVED_PRESET_PATH + utils.RESEVERD_PRESET, weights_only=True)\n",
    "\n",
    "style = {'background':'white'}\n",
    "item_layout = Layout(width='auto')\n",
    "\n",
    "fairness_groups_names = ['Predicted and actual outcomes',\n",
    "                         'Predicted probibilities and actual outcomes',\n",
    "                         'similarity based',\n",
    "                         'Causal Reasoning']\n",
    "\n",
    "metric_names = [\n",
    "    ['Error rate', 'Predictive value', 'Statistical parity'],\n",
    "    ['Test-fairness', 'Balance in classes'],\n",
    "    ['Similarity']\n",
    "]\n",
    "\n",
    "VALID_GROUND = Valid(value=True, description='Ground truth')\n",
    "VALID_PRED = Valid(value=True, description='Prediction')\n",
    "\n",
    "TEST_FAIRNESS = VBox([\n",
    "    Checkbox(layout=item_layout,\n",
    "             value=True,\n",
    "             description='Use metric?',\n",
    "             indent=False),\n",
    "    Label(value='Please, make a selections'),  ## label to explain\n",
    "    VALID_GROUND, VALID_PRED,\n",
    "])\n",
    "\n",
    "BALANCE_IN_CLASS = VBox([\n",
    "    Checkbox(layout=item_layout,\n",
    "             value=True,\n",
    "             description='Use metric?',\n",
    "             indent=False),\n",
    "    Label(value='Please, make a selections'),  ## label to explain\n",
    "    Checkbox(layout=item_layout, \n",
    "                     description='Show the positive balance', \n",
    "                     indent=False, \n",
    "                     style=style),\n",
    "    Checkbox(layout=item_layout, \n",
    "                     description='Show the negative balance', \n",
    "                     indent=False, \n",
    "                     style=style),\n",
    "    VALID_GROUND, VALID_PRED,\n",
    "])\n",
    "\n",
    "ERROR_RATE_METRICS = VBox([\n",
    "    Checkbox(layout=item_layout,\n",
    "             value=True,\n",
    "             description='Use metric?',\n",
    "             indent=False),\n",
    "    Label(value='Please, make a selections'),  ## label to explain\n",
    "    VALID_GROUND, VALID_PRED,\n",
    "])\n",
    "\n",
    "PREDICTIVE_VALUE_METRICS = VBox([\n",
    "    Checkbox(layout=item_layout,\n",
    "             value=True,\n",
    "             description='Use metric?',\n",
    "             indent=False),\n",
    "    Label(value='Please, make a selections'),  ## label to explain\n",
    "    VALID_GROUND, VALID_PRED,\n",
    "])\n",
    "\n",
    "STATISTICAL_PARITY = VBox([\n",
    "    Checkbox(layout=item_layout,\n",
    "             value=True,\n",
    "             description='Use metric?',\n",
    "             indent=False),\n",
    "    Label(value='Please, make a selections'),  ## label to explain\n",
    "    VALID_PRED,\n",
    "])\n",
    "\n",
    "SIMILARITY_BASED = VBox([\n",
    "    Checkbox(layout=item_layout,\n",
    "             value=True,\n",
    "             description='Use metric?',\n",
    "             indent=False),\n",
    "    Label(value='Please, make a selections'),  ## label to explain\n",
    "    IntText(value=1000,\n",
    "        description='Sample size:'),\n",
    "    RadioButtons(options=['Manhattan Distance', 'Euclidean Distance', 'cosine'],\n",
    "        value='Manhattan Distance',\n",
    "        style = {'description_width': 'initial'},\n",
    "        description='Choose distance metric:',\n",
    "    ),\n",
    "    VALID_PRED,\n",
    "])\n",
    "\n",
    "metrics_groups = [\n",
    "    [ERROR_RATE_METRICS, PREDICTIVE_VALUE_METRICS, STATISTICAL_PARITY],\n",
    "    [TEST_FAIRNESS, BALANCE_IN_CLASS],\n",
    "    [SIMILARITY_BASED]\n",
    "]\n",
    "\n",
    "fairness_groups = [\n",
    "    Accordion(children=metrics_groups[0], titles=metric_names[0]),\n",
    "    Accordion(children=metrics_groups[1], titles=metric_names[1]),\n",
    "    Accordion(children=metrics_groups[2], titles=metric_names[2]),\n",
    "]\n",
    "\n",
    "accordion = Accordion(children=fairness_groups, titles=fairness_groups_names)\n",
    "\n",
    "## Restore data\n",
    "default = [[metric.children[0].value for metric in group] for group in metrics_groups]\n",
    "metric_selection = params.get('metric_selection', default)\n",
    "for group, group_selection in zip(metrics_groups, metric_selection):\n",
    "    for metric, selection in zip(group, group_selection):\n",
    "        metric.children[0].value = selection\n",
    "VALID_GROUND.value = True if params.get('ground_truth_column', '') else False\n",
    "VALID_PRED.value = True if params.get('prediction_column', '') else False\n",
    "BALANCE_IN_CLASS.children[2].value = params.get('balance_pos', True)\n",
    "BALANCE_IN_CLASS.children[3].value = params.get('balance_neg', True)\n",
    "SIMILARITY_BASED.children[2].value = params.get('sample_limit', 1000)\n",
    "SIMILARITY_BASED.children[3].value = params.get('distance_metric', 'Manhattan Distance')\n",
    "\n",
    "display(accordion)\n",
    "\n",
    "SAVE_CHANGES = Button(\n",
    "    description='Save changes',\n",
    "    button_style='success',\n",
    "    tooltip='Save your current selection',\n",
    ")\n",
    "output_save_changes = widgets.Output()\n",
    "\n",
    "def save_changes(id):\n",
    "    with output_save_changes:\n",
    "        params['metric_selection'] = [[metric.children[0].value for metric in group] for group in metrics_groups]\n",
    "        params['balance_pos'] = BALANCE_IN_CLASS.children[2].value\n",
    "        params['balance_neg'] = BALANCE_IN_CLASS.children[3].value\n",
    "        params['sample_limit'] = SIMILARITY_BASED.children[2].value\n",
    "        params['distance_metric'] = SIMILARITY_BASED.children[3].value\n",
    "        torch.save(params, utils.SAVED_PRESET_PATH + utils.RESEVERD_PRESET)\n",
    "\n",
    "SAVE_CHANGES.on_click(save_changes)\n",
    "\n",
    "display(SAVE_CHANGES, output_save_changes)"
   ]
  },
  {
   "cell_type": "code",
   "execution_count": 6,
   "id": "af0fbcd4",
   "metadata": {},
   "outputs": [],
   "source": [
    "params = torch.load(utils.SAVED_PRESET_PATH + utils.RESEVERD_PRESET, weights_only=True)\n",
    "\n",
    "def flatten(xss):\n",
    "    return [x for xs in xss for x in xs]\n",
    "\n",
    "metrics = [[Error_rate_metrics, Predictive_value_metrics, statistical_parity],\n",
    "           [well_calibration, balance_in_pos_neg],\n",
    "           [LipschitzFairness]]\n",
    "\n",
    "default = [[metric.children[0].value for metric in group] for group in metrics_groups]\n",
    "metric_selection = params.get('metric_selection', default)\n",
    "using_metrics = [metric(dataset, params) for metric, selection2 in zip(flatten(metrics), flatten(metric_selection)) if selection2]"
   ]
  },
  {
   "cell_type": "code",
   "execution_count": 9,
   "id": "b06b98ce",
   "metadata": {},
   "outputs": [
    {
     "name": "stdout",
     "output_type": "stream",
     "text": [
      "{'persoon_geslacht_vrouw': {'fpr': {0: tensor(0.0482), 1: tensor(0.0366)}, 'fnr': {0: tensor(0.6362), 1: tensor(0.6666)}}, 'persoon_leeftijd_bij_onderzoek': {'fpr': {19: tensor(0.), 20: tensor(0.), 21: tensor(0.), 22: tensor(0.), 23: tensor(0.), 24: tensor(0.), 25: tensor(0.), 26: tensor(0.), 27: tensor(0.), 28: tensor(0.), 29: tensor(0.), 30: tensor(0.), 31: tensor(0.), 32: tensor(0.), 33: tensor(0.), 34: tensor(0.), 35: tensor(0.), 36: tensor(0.0111), 37: tensor(0.), 38: tensor(0.0125), 39: tensor(0.0169), 40: tensor(0.0182), 41: tensor(0.0089), 42: tensor(0.0201), 43: tensor(0.0229), 44: tensor(0.0060), 45: tensor(0.0235), 46: tensor(0.0312), 47: tensor(0.0400), 48: tensor(0.0338), 49: tensor(0.0236), 50: tensor(0.0591), 51: tensor(0.0604), 52: tensor(0.0584), 53: tensor(0.0380), 54: tensor(0.0354), 55: tensor(0.0127), 56: tensor(0.0386), 57: tensor(0.0667), 58: tensor(0.0437), 59: tensor(0.0913), 60: tensor(0.0693), 61: tensor(0.0897), 62: tensor(0.0849), 63: tensor(0.0547), 64: tensor(0.0615), 65: tensor(0.0926), 66: tensor(0.0504), 67: tensor(0.0980)}, 'fnr': {19: tensor(0.6667), 20: tensor(0.8750), 21: tensor(0.6154), 22: tensor(0.7500), 23: tensor(0.7917), 24: tensor(0.7333), 25: tensor(0.6500), 26: tensor(0.5952), 27: tensor(0.7609), 28: tensor(0.6727), 29: tensor(0.7391), 30: tensor(0.6842), 31: tensor(0.7179), 32: tensor(0.7763), 33: tensor(0.7973), 34: tensor(0.7053), 35: tensor(0.6555), 36: tensor(0.6639), 37: tensor(0.6596), 38: tensor(0.6892), 39: tensor(0.6968), 40: tensor(0.6462), 41: tensor(0.6467), 42: tensor(0.6863), 43: tensor(0.6613), 44: tensor(0.6742), 45: tensor(0.6234), 46: tensor(0.7196), 47: tensor(0.6610), 48: tensor(0.6441), 49: tensor(0.6081), 50: tensor(0.6861), 51: tensor(0.6842), 52: tensor(0.6282), 53: tensor(0.6919), 54: tensor(0.6793), 55: tensor(0.6435), 56: tensor(0.6433), 57: tensor(0.5829), 58: tensor(0.5511), 59: tensor(0.6268), 60: tensor(0.5896), 61: tensor(0.5775), 62: tensor(0.5669), 63: tensor(0.5965), 64: tensor(0.5698), 65: tensor(0.6250), 66: tensor(0.4658), 67: tensor(0.4483)}}}\n",
      "{'persoon_geslacht_vrouw': {'ppv': {0: tensor(0.8759), 1: tensor(0.9068)}, 'npv': {0: tensor(0.6154), 1: tensor(0.5750)}}, 'persoon_leeftijd_bij_onderzoek': {'ppv': {19: tensor(1.), 20: tensor(1.), 21: tensor(1.), 22: tensor(1.), 23: tensor(1.), 24: tensor(1.), 25: tensor(1.), 26: tensor(1.), 27: tensor(1.), 28: tensor(1.), 29: tensor(1.), 30: tensor(1.), 31: tensor(1.), 32: tensor(1.), 33: tensor(1.), 34: tensor(1.), 35: tensor(1.), 36: tensor(0.9762), 37: tensor(1.), 38: tensor(0.9787), 39: tensor(0.9592), 40: tensor(0.9718), 41: tensor(0.9848), 42: tensor(0.9552), 43: tensor(0.9403), 44: tensor(0.9863), 45: tensor(0.9560), 46: tensor(0.9091), 47: tensor(0.9195), 48: tensor(0.9130), 49: tensor(0.9457), 50: tensor(0.8333), 51: tensor(0.8182), 52: tensor(0.8529), 53: tensor(0.8667), 54: tensor(0.8676), 55: tensor(0.9647), 56: tensor(0.8714), 57: tensor(0.8298), 58: tensor(0.8778), 59: tensor(0.7162), 60: tensor(0.7746), 61: tensor(0.7500), 62: tensor(0.7534), 63: tensor(0.8070), 64: tensor(0.7708), 65: tensor(0.7059), 66: tensor(0.8667), 67: tensor(0.7619)}, 'npv': {19: tensor(0.2500), 20: tensor(0.3000), 21: tensor(0.3846), 22: tensor(0.4000), 23: tensor(0.2963), 24: tensor(0.3714), 25: tensor(0.6486), 26: tensor(0.2424), 27: tensor(0.3269), 28: tensor(0.4559), 29: tensor(0.3014), 30: tensor(0.4800), 31: tensor(0.3708), 32: tensor(0.3980), 33: tensor(0.4779), 34: tensor(0.4463), 35: tensor(0.4583), 36: tensor(0.5235), 37: tensor(0.4497), 38: tensor(0.4365), 39: tensor(0.5179), 40: tensor(0.4615), 41: tensor(0.4826), 42: tensor(0.5105), 43: tensor(0.5816), 44: tensor(0.5285), 45: tensor(0.5355), 46: tensor(0.5471), 47: tensor(0.5185), 48: tensor(0.6010), 49: tensor(0.6053), 50: tensor(0.5931), 51: tensor(0.6148), 52: tensor(0.6221), 53: tensor(0.6341), 54: tensor(0.6622), 55: tensor(0.6115), 56: tensor(0.6707), 57: tensor(0.6727), 58: tensor(0.7130), 59: tensor(0.7013), 60: tensor(0.7313), 61: tensor(0.7123), 62: tensor(0.7293), 63: tensor(0.7364), 64: tensor(0.7742), 65: tensor(0.7101), 66: tensor(0.7687), 67: tensor(0.7797)}}}\n",
      "{'persoon_geslacht_vrouw': {'group_probs': {0: tensor(0.2007), 1: tensor(0.1899)}, 'pairwise_differences': {(0, 1): tensor(0.0108)}, 'fair': True}, 'persoon_leeftijd_bij_onderzoek': {'group_probs': {19: tensor(0.2727), 20: tensor(0.0909), 21: tensor(0.2778), 22: tensor(0.1667), 23: tensor(0.1562), 24: tensor(0.1860), 25: tensor(0.1591), 26: tensor(0.3400), 27: tensor(0.1746), 28: tensor(0.2093), 29: tensor(0.1978), 30: tensor(0.1935), 31: tensor(0.1982), 32: tensor(0.1478), 33: tensor(0.1172), 34: tensor(0.1879), 35: tensor(0.2216), 36: tensor(0.1981), 37: tensor(0.2212), 38: tensor(0.2061), 39: tensor(0.1795), 40: tensor(0.2328), 41: tensor(0.2230), 42: tensor(0.1898), 43: tensor(0.1856), 44: tensor(0.1877), 45: tensor(0.2269), 46: tensor(0.1626), 47: tensor(0.2117), 48: tensor(0.1945), 49: tensor(0.2120), 50: tensor(0.1826), 51: tensor(0.1785), 52: tensor(0.2077), 53: tensor(0.1582), 54: tensor(0.1553), 55: tensor(0.1824), 56: tensor(0.1733), 57: tensor(0.2201), 58: tensor(0.2103), 59: tensor(0.1989), 60: tensor(0.1945), 61: tensor(0.2192), 62: tensor(0.2153), 63: tensor(0.1810), 64: tensor(0.1811), 65: tensor(0.1977), 66: tensor(0.2344), 67: tensor(0.2625)}, 'pairwise_differences': {(19, 20): tensor(0.1818), (19, 21): tensor(0.0051), (19, 22): tensor(0.1061), (19, 23): tensor(0.1165), (19, 24): tensor(0.0867), (19, 25): tensor(0.1136), (19, 26): tensor(0.0673), (19, 27): tensor(0.0981), (19, 28): tensor(0.0634), (19, 29): tensor(0.0749), (19, 30): tensor(0.0792), (19, 31): tensor(0.0745), (19, 32): tensor(0.1249), (19, 33): tensor(0.1555), (19, 34): tensor(0.0848), (19, 35): tensor(0.0511), (19, 36): tensor(0.0746), (19, 37): tensor(0.0515), (19, 38): tensor(0.0666), (19, 39): tensor(0.0932), (19, 40): tensor(0.0399), (19, 41): tensor(0.0498), (19, 42): tensor(0.0829), (19, 43): tensor(0.0871), (19, 44): tensor(0.0851), (19, 45): tensor(0.0458), (19, 46): tensor(0.1102), (19, 47): tensor(0.0610), (19, 48): tensor(0.0782), (19, 49): tensor(0.0607), (19, 50): tensor(0.0901), (19, 51): tensor(0.0942), (19, 52): tensor(0.0650), (19, 53): tensor(0.1145), (19, 54): tensor(0.1175), (19, 55): tensor(0.0903), (19, 56): tensor(0.0995), (19, 57): tensor(0.0526), (19, 58): tensor(0.0624), (19, 59): tensor(0.0738), (19, 60): tensor(0.0782), (19, 61): tensor(0.0535), (19, 62): tensor(0.0574), (19, 63): tensor(0.0918), (19, 64): tensor(0.0916), (19, 65): tensor(0.0751), (19, 66): tensor(0.0384), (19, 67): tensor(0.0102), (20, 21): tensor(0.1869), (20, 22): tensor(0.0758), (20, 23): tensor(0.0653), (20, 24): tensor(0.0951), (20, 25): tensor(0.0682), (20, 26): tensor(0.2491), (20, 27): tensor(0.0837), (20, 28): tensor(0.1184), (20, 29): tensor(0.1069), (20, 30): tensor(0.1026), (20, 31): tensor(0.1073), (20, 32): tensor(0.0569), (20, 33): tensor(0.0263), (20, 34): tensor(0.0970), (20, 35): tensor(0.1307), (20, 36): tensor(0.1072), (20, 37): tensor(0.1303), (20, 38): tensor(0.1152), (20, 39): tensor(0.0886), (20, 40): tensor(0.1419), (20, 41): tensor(0.1321), (20, 42): tensor(0.0989), (20, 43): tensor(0.0947), (20, 44): tensor(0.0968), (20, 45): tensor(0.1360), (20, 46): tensor(0.0717), (20, 47): tensor(0.1208), (20, 48): tensor(0.1036), (20, 49): tensor(0.1211), (20, 50): tensor(0.0917), (20, 51): tensor(0.0876), (20, 52): tensor(0.1168), (20, 53): tensor(0.0673), (20, 54): tensor(0.0643), (20, 55): tensor(0.0915), (20, 56): tensor(0.0824), (20, 57): tensor(0.1292), (20, 58): tensor(0.1194), (20, 59): tensor(0.1080), (20, 60): tensor(0.1036), (20, 61): tensor(0.1283), (20, 62): tensor(0.1244), (20, 63): tensor(0.0900), (20, 64): tensor(0.0902), (20, 65): tensor(0.1068), (20, 66): tensor(0.1435), (20, 67): tensor(0.1716), (21, 22): tensor(0.1111), (21, 23): tensor(0.1215), (21, 24): tensor(0.0917), (21, 25): tensor(0.1187), (21, 26): tensor(0.0622), (21, 27): tensor(0.1032), (21, 28): tensor(0.0685), (21, 29): tensor(0.0800), (21, 30): tensor(0.0842), (21, 31): tensor(0.0796), (21, 32): tensor(0.1300), (21, 33): tensor(0.1606), (21, 34): tensor(0.0899), (21, 35): tensor(0.0562), (21, 36): tensor(0.0797), (21, 37): tensor(0.0566), (21, 38): tensor(0.0716), (21, 39): tensor(0.0983), (21, 40): tensor(0.0450), (21, 41): tensor(0.0548), (21, 42): tensor(0.0880), (21, 43): tensor(0.0922), (21, 44): tensor(0.0901), (21, 45): tensor(0.0508), (21, 46): tensor(0.1152), (21, 47): tensor(0.0661), (21, 48): tensor(0.0833), (21, 49): tensor(0.0658), (21, 50): tensor(0.0952), (21, 51): tensor(0.0993), (21, 52): tensor(0.0700), (21, 53): tensor(0.1195), (21, 54): tensor(0.1225), (21, 55): tensor(0.0954), (21, 56): tensor(0.1045), (21, 57): tensor(0.0576), (21, 58): tensor(0.0675), (21, 59): tensor(0.0789), (21, 60): tensor(0.0833), (21, 61): tensor(0.0586), (21, 62): tensor(0.0624), (21, 63): tensor(0.0968), (21, 64): tensor(0.0966), (21, 65): tensor(0.0801), (21, 66): tensor(0.0434), (21, 67): tensor(0.0153), (22, 23): tensor(0.0104), (22, 24): tensor(0.0194), (22, 25): tensor(0.0076), (22, 26): tensor(0.1733), (22, 27): tensor(0.0079), (22, 28): tensor(0.0426), (22, 29): tensor(0.0311), (22, 30): tensor(0.0269), (22, 31): tensor(0.0315), (22, 32): tensor(0.0188), (22, 33): tensor(0.0495), (22, 34): tensor(0.0213), (22, 35): tensor(0.0550), (22, 36): tensor(0.0314), (22, 37): tensor(0.0545), (22, 38): tensor(0.0395), (22, 39): tensor(0.0128), (22, 40): tensor(0.0661), (22, 41): tensor(0.0563), (22, 42): tensor(0.0231), (22, 43): tensor(0.0189), (22, 44): tensor(0.0210), (22, 45): tensor(0.0603), (22, 46): tensor(0.0041), (22, 47): tensor(0.0450), (22, 48): tensor(0.0278), (22, 49): tensor(0.0453), (22, 50): tensor(0.0159), (22, 51): tensor(0.0118), (22, 52): tensor(0.0411), (22, 53): tensor(0.0084), (22, 54): tensor(0.0114), (22, 55): tensor(0.0157), (22, 56): tensor(0.0066), (22, 57): tensor(0.0535), (22, 58): tensor(0.0436), (22, 59): tensor(0.0323), (22, 60): tensor(0.0279), (22, 61): tensor(0.0525), (22, 62): tensor(0.0487), (22, 63): tensor(0.0143), (22, 64): tensor(0.0145), (22, 65): tensor(0.0310), (22, 66): tensor(0.0677), (22, 67): tensor(0.0958), (23, 24): tensor(0.0298), (23, 25): tensor(0.0028), (23, 26): tensor(0.1838), (23, 27): tensor(0.0184), (23, 28): tensor(0.0531), (23, 29): tensor(0.0416), (23, 30): tensor(0.0373), (23, 31): tensor(0.0419), (23, 32): tensor(0.0084), (23, 33): tensor(0.0391), (23, 34): tensor(0.0317), (23, 35): tensor(0.0654), (23, 36): tensor(0.0419), (23, 37): tensor(0.0649), (23, 38): tensor(0.0499), (23, 39): tensor(0.0232), (23, 40): tensor(0.0765), (23, 41): tensor(0.0667), (23, 42): tensor(0.0336), (23, 43): tensor(0.0293), (23, 44): tensor(0.0314), (23, 45): tensor(0.0707), (23, 46): tensor(0.0063), (23, 47): tensor(0.0554), (23, 48): tensor(0.0383), (23, 49): tensor(0.0557), (23, 50): tensor(0.0264), (23, 51): tensor(0.0222), (23, 52): tensor(0.0515), (23, 53): tensor(0.0020), (23, 54): tensor(0.0010), (23, 55): tensor(0.0262), (23, 56): tensor(0.0170), (23, 57): tensor(0.0639), (23, 58): tensor(0.0540), (23, 59): tensor(0.0427), (23, 60): tensor(0.0383), (23, 61): tensor(0.0629), (23, 62): tensor(0.0591), (23, 63): tensor(0.0247), (23, 64): tensor(0.0249), (23, 65): tensor(0.0414), (23, 66): tensor(0.0781), (23, 67): tensor(0.1062), (24, 25): tensor(0.0270), (24, 26): tensor(0.1540), (24, 27): tensor(0.0114), (24, 28): tensor(0.0233), (24, 29): tensor(0.0118), (24, 30): tensor(0.0075), (24, 31): tensor(0.0122), (24, 32): tensor(0.0382), (24, 33): tensor(0.0689), (24, 34): tensor(0.0019), (24, 35): tensor(0.0356), (24, 36): tensor(0.0121), (24, 37): tensor(0.0352), (24, 38): tensor(0.0201), (24, 39): tensor(0.0066), (24, 40): tensor(0.0467), (24, 41): tensor(0.0369), (24, 42): tensor(0.0038), (24, 43): tensor(0.0005), (24, 44): tensor(0.0016), (24, 45): tensor(0.0409), (24, 46): tensor(0.0235), (24, 47): tensor(0.0256), (24, 48): tensor(0.0085), (24, 49): tensor(0.0259), (24, 50): tensor(0.0034), (24, 51): tensor(0.0075), (24, 52): tensor(0.0217), (24, 53): tensor(0.0278), (24, 54): tensor(0.0308), (24, 55): tensor(0.0036), (24, 56): tensor(0.0128), (24, 57): tensor(0.0341), (24, 58): tensor(0.0242), (24, 59): tensor(0.0129), (24, 60): tensor(0.0085), (24, 61): tensor(0.0331), (24, 62): tensor(0.0293), (24, 63): tensor(0.0051), (24, 64): tensor(0.0049), (24, 65): tensor(0.0116), (24, 66): tensor(0.0483), (24, 67): tensor(0.0765), (25, 26): tensor(0.1809), (25, 27): tensor(0.0155), (25, 28): tensor(0.0502), (25, 29): tensor(0.0387), (25, 30): tensor(0.0345), (25, 31): tensor(0.0391), (25, 32): tensor(0.0113), (25, 33): tensor(0.0419), (25, 34): tensor(0.0288), (25, 35): tensor(0.0625), (25, 36): tensor(0.0390), (25, 37): tensor(0.0621), (25, 38): tensor(0.0470), (25, 39): tensor(0.0204), (25, 40): tensor(0.0737), (25, 41): tensor(0.0639), (25, 42): tensor(0.0307), (25, 43): tensor(0.0265), (25, 44): tensor(0.0286), (25, 45): tensor(0.0678), (25, 46): tensor(0.0035), (25, 47): tensor(0.0526), (25, 48): tensor(0.0354), (25, 49): tensor(0.0529), (25, 50): tensor(0.0235), (25, 51): tensor(0.0194), (25, 52): tensor(0.0486), (25, 53): tensor(0.0009), (25, 54): tensor(0.0038), (25, 55): tensor(0.0233), (25, 56): tensor(0.0142), (25, 57): tensor(0.0610), (25, 58): tensor(0.0512), (25, 59): tensor(0.0398), (25, 60): tensor(0.0354), (25, 61): tensor(0.0601), (25, 62): tensor(0.0562), (25, 63): tensor(0.0219), (25, 64): tensor(0.0220), (25, 65): tensor(0.0386), (25, 66): tensor(0.0753), (25, 67): tensor(0.1034), (26, 27): tensor(0.1654), (26, 28): tensor(0.1307), (26, 29): tensor(0.1422), (26, 30): tensor(0.1465), (26, 31): tensor(0.1418), (26, 32): tensor(0.1922), (26, 33): tensor(0.2228), (26, 34): tensor(0.1521), (26, 35): tensor(0.1184), (26, 36): tensor(0.1419), (26, 37): tensor(0.1188), (26, 38): tensor(0.1339), (26, 39): tensor(0.1605), (26, 40): tensor(0.1072), (26, 41): tensor(0.1170), (26, 42): tensor(0.1502), (26, 43): tensor(0.1544), (26, 44): tensor(0.1523), (26, 45): tensor(0.1131), (26, 46): tensor(0.1774), (26, 47): tensor(0.1283), (26, 48): tensor(0.1455), (26, 49): tensor(0.1280), (26, 50): tensor(0.1574), (26, 51): tensor(0.1615), (26, 52): tensor(0.1323), (26, 53): tensor(0.1818), (26, 54): tensor(0.1847), (26, 55): tensor(0.1576), (26, 56): tensor(0.1667), (26, 57): tensor(0.1199), (26, 58): tensor(0.1297), (26, 59): tensor(0.1411), (26, 60): tensor(0.1455), (26, 61): tensor(0.1208), (26, 62): tensor(0.1247), (26, 63): tensor(0.1590), (26, 64): tensor(0.1589), (26, 65): tensor(0.1423), (26, 66): tensor(0.1056), (26, 67): tensor(0.0775), (27, 28): tensor(0.0347), (27, 29): tensor(0.0232), (27, 30): tensor(0.0189), (27, 31): tensor(0.0236), (27, 32): tensor(0.0268), (27, 33): tensor(0.0574), (27, 34): tensor(0.0133), (27, 35): tensor(0.0470), (27, 36): tensor(0.0235), (27, 37): tensor(0.0466), (27, 38): tensor(0.0315), (27, 39): tensor(0.0049), (27, 40): tensor(0.0582), (27, 41): tensor(0.0484), (27, 42): tensor(0.0152), (27, 43): tensor(0.0110), (27, 44): tensor(0.0131), (27, 45): tensor(0.0523), (27, 46): tensor(0.0120), (27, 47): tensor(0.0371), (27, 48): tensor(0.0199), (27, 49): tensor(0.0374), (27, 50): tensor(0.0080), (27, 51): tensor(0.0039), (27, 52): tensor(0.0331), (27, 53): tensor(0.0164), (27, 54): tensor(0.0194), (27, 55): tensor(0.0078), (27, 56): tensor(0.0013), (27, 57): tensor(0.0455), (27, 58): tensor(0.0357), (27, 59): tensor(0.0243), (27, 60): tensor(0.0199), (27, 61): tensor(0.0446), (27, 62): tensor(0.0407), (27, 63): tensor(0.0063), (27, 64): tensor(0.0065), (27, 65): tensor(0.0231), (27, 66): tensor(0.0598), (27, 67): tensor(0.0879), (28, 29): tensor(0.0115), (28, 30): tensor(0.0158), (28, 31): tensor(0.0111), (28, 32): tensor(0.0615), (28, 33): tensor(0.0921), (28, 34): tensor(0.0214), (28, 35): tensor(0.0123), (28, 36): tensor(0.0112), (28, 37): tensor(0.0119), (28, 38): tensor(0.0032), (28, 39): tensor(0.0298), (28, 40): tensor(0.0235), (28, 41): tensor(0.0137), (28, 42): tensor(0.0195), (28, 43): tensor(0.0237), (28, 44): tensor(0.0216), (28, 45): tensor(0.0176), (28, 46): tensor(0.0467), (28, 47): tensor(0.0024), (28, 48): tensor(0.0148), (28, 49): tensor(0.0027), (28, 50): tensor(0.0267), (28, 51): tensor(0.0308), (28, 52): tensor(0.0016), (28, 53): tensor(0.0511), (28, 54): tensor(0.0541), (28, 55): tensor(0.0269), (28, 56): tensor(0.0360), (28, 57): tensor(0.0108), (28, 58): tensor(0.0010), (28, 59): tensor(0.0104), (28, 60): tensor(0.0148), (28, 61): tensor(0.0099), (28, 62): tensor(0.0060), (28, 63): tensor(0.0283), (28, 64): tensor(0.0282), (28, 65): tensor(0.0116), (28, 66): tensor(0.0251), (28, 67): tensor(0.0532), (29, 30): tensor(0.0043), (29, 31): tensor(0.0004), (29, 32): tensor(0.0500), (29, 33): tensor(0.0806), (29, 34): tensor(0.0099), (29, 35): tensor(0.0238), (29, 36): tensor(0.0003), (29, 37): tensor(0.0234), (29, 38): tensor(0.0083), (29, 39): tensor(0.0183), (29, 40): tensor(0.0350), (29, 41): tensor(0.0252), (29, 42): tensor(0.0080), (29, 43): tensor(0.0122), (29, 44): tensor(0.0101), (29, 45): tensor(0.0291), (29, 46): tensor(0.0352), (29, 47): tensor(0.0139), (29, 48): tensor(0.0033), (29, 49): tensor(0.0142), (29, 50): tensor(0.0152), (29, 51): tensor(0.0193), (29, 52): tensor(0.0099), (29, 53): tensor(0.0396), (29, 54): tensor(0.0426), (29, 55): tensor(0.0154), (29, 56): tensor(0.0245), (29, 57): tensor(0.0223), (29, 58): tensor(0.0125), (29, 59): tensor(0.0011), (29, 60): tensor(0.0033), (29, 61): tensor(0.0214), (29, 62): tensor(0.0175), (29, 63): tensor(0.0168), (29, 64): tensor(0.0167), (29, 65): tensor(0.0001), (29, 66): tensor(0.0366), (29, 67): tensor(0.0647), (30, 31): tensor(0.0046), (30, 32): tensor(0.0457), (30, 33): tensor(0.0764), (30, 34): tensor(0.0056), (30, 35): tensor(0.0281), (30, 36): tensor(0.0046), (30, 37): tensor(0.0276), (30, 38): tensor(0.0126), (30, 39): tensor(0.0141), (30, 40): tensor(0.0392), (30, 41): tensor(0.0294), (30, 42): tensor(0.0037), (30, 43): tensor(0.0080), (30, 44): tensor(0.0059), (30, 45): tensor(0.0334), (30, 46): tensor(0.0310), (30, 47): tensor(0.0181), (30, 48): tensor(0.0010), (30, 49): tensor(0.0184), (30, 50): tensor(0.0109), (30, 51): tensor(0.0150), (30, 52): tensor(0.0142), (30, 53): tensor(0.0353), (30, 54): tensor(0.0383), (30, 55): tensor(0.0111), (30, 56): tensor(0.0203), (30, 57): tensor(0.0266), (30, 58): tensor(0.0167), (30, 59): tensor(0.0054), (30, 60): tensor(0.0010), (30, 61): tensor(0.0256), (30, 62): tensor(0.0218), (30, 63): tensor(0.0126), (30, 64): tensor(0.0124), (30, 65): tensor(0.0041), (30, 66): tensor(0.0408), (30, 67): tensor(0.0690), (31, 32): tensor(0.0504), (31, 33): tensor(0.0810), (31, 34): tensor(0.0103), (31, 35): tensor(0.0234), (31, 36): tensor(8.4996e-05), (31, 37): tensor(0.0230), (31, 38): tensor(0.0079), (31, 39): tensor(0.0187), (31, 40): tensor(0.0346), (31, 41): tensor(0.0248), (31, 42): tensor(0.0084), (31, 43): tensor(0.0126), (31, 44): tensor(0.0105), (31, 45): tensor(0.0287), (31, 46): tensor(0.0356), (31, 47): tensor(0.0135), (31, 48): tensor(0.0037), (31, 49): tensor(0.0138), (31, 50): tensor(0.0156), (31, 51): tensor(0.0197), (31, 52): tensor(0.0095), (31, 53): tensor(0.0400), (31, 54): tensor(0.0429), (31, 55): tensor(0.0158), (31, 56): tensor(0.0249), (31, 57): tensor(0.0219), (31, 58): tensor(0.0121), (31, 59): tensor(0.0007), (31, 60): tensor(0.0037), (31, 61): tensor(0.0210), (31, 62): tensor(0.0171), (31, 63): tensor(0.0172), (31, 64): tensor(0.0171), (31, 65): tensor(0.0005), (31, 66): tensor(0.0362), (31, 67): tensor(0.0643), (32, 33): tensor(0.0306), (32, 34): tensor(0.0401), (32, 35): tensor(0.0738), (32, 36): tensor(0.0503), (32, 37): tensor(0.0734), (32, 38): tensor(0.0583), (32, 39): tensor(0.0317), (32, 40): tensor(0.0850), (32, 41): tensor(0.0751), (32, 42): tensor(0.0420), (32, 43): tensor(0.0378), (32, 44): tensor(0.0398), (32, 45): tensor(0.0791), (32, 46): tensor(0.0147), (32, 47): tensor(0.0639), (32, 48): tensor(0.0467), (32, 49): tensor(0.0642), (32, 50): tensor(0.0348), (32, 51): tensor(0.0307), (32, 52): tensor(0.0599), (32, 53): tensor(0.0104), (32, 54): tensor(0.0074), (32, 55): tensor(0.0346), (32, 56): tensor(0.0254), (32, 57): tensor(0.0723), (32, 58): tensor(0.0625), (32, 59): tensor(0.0511), (32, 60): tensor(0.0467), (32, 61): tensor(0.0714), (32, 62): tensor(0.0675), (32, 63): tensor(0.0331), (32, 64): tensor(0.0333), (32, 65): tensor(0.0498), (32, 66): tensor(0.0865), (32, 67): tensor(0.1147), (33, 34): tensor(0.0707), (33, 35): tensor(0.1044), (33, 36): tensor(0.0809), (33, 37): tensor(0.1040), (33, 38): tensor(0.0890), (33, 39): tensor(0.0623), (33, 40): tensor(0.1156), (33, 41): tensor(0.1058), (33, 42): tensor(0.0726), (33, 43): tensor(0.0684), (33, 44): tensor(0.0705), (33, 45): tensor(0.1097), (33, 46): tensor(0.0454), (33, 47): tensor(0.0945), (33, 48): tensor(0.0773), (33, 49): tensor(0.0948), (33, 50): tensor(0.0654), (33, 51): tensor(0.0613), (33, 52): tensor(0.0906), (33, 53): tensor(0.0410), (33, 54): tensor(0.0381), (33, 55): tensor(0.0652), (33, 56): tensor(0.0561), (33, 57): tensor(0.1030), (33, 58): tensor(0.0931), (33, 59): tensor(0.0817), (33, 60): tensor(0.0773), (33, 61): tensor(0.1020), (33, 62): tensor(0.0982), (33, 63): tensor(0.0638), (33, 64): tensor(0.0639), (33, 65): tensor(0.0805), (33, 66): tensor(0.1172), (33, 67): tensor(0.1453), (34, 35): tensor(0.0337), (34, 36): tensor(0.0102), (34, 37): tensor(0.0333), (34, 38): tensor(0.0182), (34, 39): tensor(0.0084), (34, 40): tensor(0.0449), (34, 41): tensor(0.0351), (34, 42): tensor(0.0019), (34, 43): tensor(0.0023), (34, 44): tensor(0.0003), (34, 45): tensor(0.0390), (34, 46): tensor(0.0254), (34, 47): tensor(0.0238), (34, 48): tensor(0.0066), (34, 49): tensor(0.0241), (34, 50): tensor(0.0053), (34, 51): tensor(0.0094), (34, 52): tensor(0.0198), (34, 53): tensor(0.0297), (34, 54): tensor(0.0327), (34, 55): tensor(0.0055), (34, 56): tensor(0.0147), (34, 57): tensor(0.0322), (34, 58): tensor(0.0224), (34, 59): tensor(0.0110), (34, 60): tensor(0.0066), (34, 61): tensor(0.0313), (34, 62): tensor(0.0274), (34, 63): tensor(0.0070), (34, 64): tensor(0.0068), (34, 65): tensor(0.0098), (34, 66): tensor(0.0465), (34, 67): tensor(0.0746), (35, 36): tensor(0.0235), (35, 37): tensor(0.0004), (35, 38): tensor(0.0155), (35, 39): tensor(0.0421), (35, 40): tensor(0.0112), (35, 41): tensor(0.0014), (35, 42): tensor(0.0318), (35, 43): tensor(0.0360), (35, 44): tensor(0.0340), (35, 45): tensor(0.0053), (35, 46): tensor(0.0591), (35, 47): tensor(0.0099), (35, 48): tensor(0.0271), (35, 49): tensor(0.0096), (35, 50): tensor(0.0390), (35, 51): tensor(0.0431), (35, 52): tensor(0.0139), (35, 53): tensor(0.0634), (35, 54): tensor(0.0664), (35, 55): tensor(0.0392), (35, 56): tensor(0.0484), (35, 57): tensor(0.0015), (35, 58): tensor(0.0113), (35, 59): tensor(0.0227), (35, 60): tensor(0.0271), (35, 61): tensor(0.0024), (35, 62): tensor(0.0063), (35, 63): tensor(0.0407), (35, 64): tensor(0.0405), (35, 65): tensor(0.0239), (35, 66): tensor(0.0128), (35, 67): tensor(0.0409), (36, 37): tensor(0.0231), (36, 38): tensor(0.0080), (36, 39): tensor(0.0186), (36, 40): tensor(0.0347), (36, 41): tensor(0.0249), (36, 42): tensor(0.0083), (36, 43): tensor(0.0125), (36, 44): tensor(0.0105), (36, 45): tensor(0.0288), (36, 46): tensor(0.0356), (36, 47): tensor(0.0136), (36, 48): tensor(0.0036), (36, 49): tensor(0.0139), (36, 50): tensor(0.0155), (36, 51): tensor(0.0196), (36, 52): tensor(0.0096), (36, 53): tensor(0.0399), (36, 54): tensor(0.0429), (36, 55): tensor(0.0157), (36, 56): tensor(0.0248), (36, 57): tensor(0.0220), (36, 58): tensor(0.0122), (36, 59): tensor(0.0008), (36, 60): tensor(0.0036), (36, 61): tensor(0.0211), (36, 62): tensor(0.0172), (36, 63): tensor(0.0172), (36, 64): tensor(0.0170), (36, 65): tensor(0.0004), (36, 66): tensor(0.0363), (36, 67): tensor(0.0644), (37, 38): tensor(0.0151), (37, 39): tensor(0.0417), (37, 40): tensor(0.0116), (37, 41): tensor(0.0018), (37, 42): tensor(0.0314), (37, 43): tensor(0.0356), (37, 44): tensor(0.0335), (37, 45): tensor(0.0057), (37, 46): tensor(0.0586), (37, 47): tensor(0.0095), (37, 48): tensor(0.0267), (37, 49): tensor(0.0092), (37, 50): tensor(0.0386), (37, 51): tensor(0.0427), (37, 52): tensor(0.0135), (37, 53): tensor(0.0630), (37, 54): tensor(0.0659), (37, 55): tensor(0.0388), (37, 56): tensor(0.0479), (37, 57): tensor(0.0011), (37, 58): tensor(0.0109), (37, 59): tensor(0.0223), (37, 60): tensor(0.0267), (37, 61): tensor(0.0020), (37, 62): tensor(0.0059), (37, 63): tensor(0.0402), (37, 64): tensor(0.0401), (37, 65): tensor(0.0235), (37, 66): tensor(0.0132), (37, 67): tensor(0.0413), (38, 39): tensor(0.0267), (38, 40): tensor(0.0266), (38, 41): tensor(0.0168), (38, 42): tensor(0.0163), (38, 43): tensor(0.0205), (38, 44): tensor(0.0185), (38, 45): tensor(0.0208), (38, 46): tensor(0.0436), (38, 47): tensor(0.0055), (38, 48): tensor(0.0116), (38, 49): tensor(0.0058), (38, 50): tensor(0.0235), (38, 51): tensor(0.0276), (38, 52): tensor(0.0016), (38, 53): tensor(0.0479), (38, 54): tensor(0.0509), (38, 55): tensor(0.0237), (38, 56): tensor(0.0329), (38, 57): tensor(0.0140), (38, 58): tensor(0.0041), (38, 59): tensor(0.0072), (38, 60): tensor(0.0116), (38, 61): tensor(0.0130), (38, 62): tensor(0.0092), (38, 63): tensor(0.0252), (38, 64): tensor(0.0250), (38, 65): tensor(0.0085), (38, 66): tensor(0.0282), (38, 67): tensor(0.0564), (39, 40): tensor(0.0533), (39, 41): tensor(0.0435), (39, 42): tensor(0.0103), (39, 43): tensor(0.0061), (39, 44): tensor(0.0082), (39, 45): tensor(0.0474), (39, 46): tensor(0.0169), (39, 47): tensor(0.0322), (39, 48): tensor(0.0150), (39, 49): tensor(0.0325), (39, 50): tensor(0.0031), (39, 51): tensor(0.0010), (39, 52): tensor(0.0283), (39, 53): tensor(0.0213), (39, 54): tensor(0.0242), (39, 55): tensor(0.0029), (39, 56): tensor(0.0062), (39, 57): tensor(0.0407), (39, 58): tensor(0.0308), (39, 59): tensor(0.0194), (39, 60): tensor(0.0150), (39, 61): tensor(0.0397), (39, 62): tensor(0.0359), (39, 63): tensor(0.0015), (39, 64): tensor(0.0016), (39, 65): tensor(0.0182), (39, 66): tensor(0.0549), (39, 67): tensor(0.0830), (40, 41): tensor(0.0098), (40, 42): tensor(0.0430), (40, 43): tensor(0.0472), (40, 44): tensor(0.0451), (40, 45): tensor(0.0059), (40, 46): tensor(0.0702), (40, 47): tensor(0.0211), (40, 48): tensor(0.0383), (40, 49): tensor(0.0208), (40, 50): tensor(0.0502), (40, 51): tensor(0.0543), (40, 52): tensor(0.0250), (40, 53): tensor(0.0746), (40, 54): tensor(0.0775), (40, 55): tensor(0.0504), (40, 56): tensor(0.0595), (40, 57): tensor(0.0126), (40, 58): tensor(0.0225), (40, 59): tensor(0.0339), (40, 60): tensor(0.0383), (40, 61): tensor(0.0136), (40, 62): tensor(0.0174), (40, 63): tensor(0.0518), (40, 64): tensor(0.0517), (40, 65): tensor(0.0351), (40, 66): tensor(0.0016), (40, 67): tensor(0.0297), (41, 42): tensor(0.0332), (41, 43): tensor(0.0374), (41, 44): tensor(0.0353), (41, 45): tensor(0.0040), (41, 46): tensor(0.0604), (41, 47): tensor(0.0113), (41, 48): tensor(0.0285), (41, 49): tensor(0.0110), (41, 50): tensor(0.0404), (41, 51): tensor(0.0445), (41, 52): tensor(0.0152), (41, 53): tensor(0.0647), (41, 54): tensor(0.0677), (41, 55): tensor(0.0406), (41, 56): tensor(0.0497), (41, 57): tensor(0.0028), (41, 58): tensor(0.0127), (41, 59): tensor(0.0240), (41, 60): tensor(0.0285), (41, 61): tensor(0.0038), (41, 62): tensor(0.0076), (41, 63): tensor(0.0420), (41, 64): tensor(0.0418), (41, 65): tensor(0.0253), (41, 66): tensor(0.0114), (41, 67): tensor(0.0395), (42, 43): tensor(0.0042), (42, 44): tensor(0.0021), (42, 45): tensor(0.0371), (42, 46): tensor(0.0272), (42, 47): tensor(0.0219), (42, 48): tensor(0.0047), (42, 49): tensor(0.0222), (42, 50): tensor(0.0072), (42, 51): tensor(0.0113), (42, 52): tensor(0.0179), (42, 53): tensor(0.0316), (42, 54): tensor(0.0346), (42, 55): tensor(0.0074), (42, 56): tensor(0.0165), (42, 57): tensor(0.0303), (42, 58): tensor(0.0205), (42, 59): tensor(0.0091), (42, 60): tensor(0.0047), (42, 61): tensor(0.0294), (42, 62): tensor(0.0255), (42, 63): tensor(0.0088), (42, 64): tensor(0.0087), (42, 65): tensor(0.0079), (42, 66): tensor(0.0446), (42, 67): tensor(0.0727), (43, 44): tensor(0.0021), (43, 45): tensor(0.0413), (43, 46): tensor(0.0230), (43, 47): tensor(0.0261), (43, 48): tensor(0.0089), (43, 49): tensor(0.0264), (43, 50): tensor(0.0030), (43, 51): tensor(0.0071), (43, 52): tensor(0.0221), (43, 53): tensor(0.0274), (43, 54): tensor(0.0303), (43, 55): tensor(0.0032), (43, 56): tensor(0.0123), (43, 57): tensor(0.0345), (43, 58): tensor(0.0247), (43, 59): tensor(0.0133), (43, 60): tensor(0.0089), (43, 61): tensor(0.0336), (43, 62): tensor(0.0297), (43, 63): tensor(0.0046), (43, 64): tensor(0.0045), (43, 65): tensor(0.0121), (43, 66): tensor(0.0488), (43, 67): tensor(0.0769), (44, 45): tensor(0.0393), (44, 46): tensor(0.0251), (44, 47): tensor(0.0240), (44, 48): tensor(0.0068), (44, 49): tensor(0.0243), (44, 50): tensor(0.0051), (44, 51): tensor(0.0092), (44, 52): tensor(0.0201), (44, 53): tensor(0.0294), (44, 54): tensor(0.0324), (44, 55): tensor(0.0053), (44, 56): tensor(0.0144), (44, 57): tensor(0.0325), (44, 58): tensor(0.0226), (44, 59): tensor(0.0113), (44, 60): tensor(0.0069), (44, 61): tensor(0.0315), (44, 62): tensor(0.0277), (44, 63): tensor(0.0067), (44, 64): tensor(0.0065), (44, 65): tensor(0.0100), (44, 66): tensor(0.0467), (44, 67): tensor(0.0748), (45, 46): tensor(0.0644), (45, 47): tensor(0.0153), (45, 48): tensor(0.0324), (45, 49): tensor(0.0150), (45, 50): tensor(0.0443), (45, 51): tensor(0.0484), (45, 52): tensor(0.0192), (45, 53): tensor(0.0687), (45, 54): tensor(0.0717), (45, 55): tensor(0.0445), (45, 56): tensor(0.0537), (45, 57): tensor(0.0068), (45, 58): tensor(0.0167), (45, 59): tensor(0.0280), (45, 60): tensor(0.0324), (45, 61): tensor(0.0078), (45, 62): tensor(0.0116), (45, 63): tensor(0.0460), (45, 64): tensor(0.0458), (45, 65): tensor(0.0293), (45, 66): tensor(0.0074), (45, 67): tensor(0.0356), (46, 47): tensor(0.0491), (46, 48): tensor(0.0319), (46, 49): tensor(0.0494), (46, 50): tensor(0.0200), (46, 51): tensor(0.0159), (46, 52): tensor(0.0452), (46, 53): tensor(0.0043), (46, 54): tensor(0.0073), (46, 55): tensor(0.0198), (46, 56): tensor(0.0107), (46, 57): tensor(0.0576), (46, 58): tensor(0.0477), (46, 59): tensor(0.0364), (46, 60): tensor(0.0320), (46, 61): tensor(0.0566), (46, 62): tensor(0.0528), (46, 63): tensor(0.0184), (46, 64): tensor(0.0186), (46, 65): tensor(0.0351), (46, 66): tensor(0.0718), (46, 67): tensor(0.0999), (47, 48): tensor(0.0172), (47, 49): tensor(0.0003), (47, 50): tensor(0.0291), (47, 51): tensor(0.0332), (47, 52): tensor(0.0039), (47, 53): tensor(0.0535), (47, 54): tensor(0.0564), (47, 55): tensor(0.0293), (47, 56): tensor(0.0384), (47, 57): tensor(0.0085), (47, 58): tensor(0.0014), (47, 59): tensor(0.0128), (47, 60): tensor(0.0172), (47, 61): tensor(0.0075), (47, 62): tensor(0.0037), (47, 63): tensor(0.0307), (47, 64): tensor(0.0305), (47, 65): tensor(0.0140), (47, 66): tensor(0.0227), (47, 67): tensor(0.0508), (48, 49): tensor(0.0175), (48, 50): tensor(0.0119), (48, 51): tensor(0.0160), (48, 52): tensor(0.0132), (48, 53): tensor(0.0363), (48, 54): tensor(0.0393), (48, 55): tensor(0.0121), (48, 56): tensor(0.0212), (48, 57): tensor(0.0256), (48, 58): tensor(0.0158), (48, 59): tensor(0.0044), (48, 60): tensor(1.7375e-05), (48, 61): tensor(0.0247), (48, 62): tensor(0.0208), (48, 63): tensor(0.0136), (48, 64): tensor(0.0134), (48, 65): tensor(0.0032), (48, 66): tensor(0.0399), (48, 67): tensor(0.0680), (49, 50): tensor(0.0294), (49, 51): tensor(0.0335), (49, 52): tensor(0.0042), (49, 53): tensor(0.0538), (49, 54): tensor(0.0567), (49, 55): tensor(0.0296), (49, 56): tensor(0.0387), (49, 57): tensor(0.0082), (49, 58): tensor(0.0017), (49, 59): tensor(0.0131), (49, 60): tensor(0.0175), (49, 61): tensor(0.0072), (49, 62): tensor(0.0034), (49, 63): tensor(0.0310), (49, 64): tensor(0.0308), (49, 65): tensor(0.0143), (49, 66): tensor(0.0224), (49, 67): tensor(0.0505), (50, 51): tensor(0.0041), (50, 52): tensor(0.0251), (50, 53): tensor(0.0244), (50, 54): tensor(0.0274), (50, 55): tensor(0.0002), (50, 56): tensor(0.0093), (50, 57): tensor(0.0375), (50, 58): tensor(0.0277), (50, 59): tensor(0.0163), (50, 60): tensor(0.0119), (50, 61): tensor(0.0366), (50, 62): tensor(0.0327), (50, 63): tensor(0.0017), (50, 64): tensor(0.0015), (50, 65): tensor(0.0151), (50, 66): tensor(0.0518), (50, 67): tensor(0.0799), (51, 52): tensor(0.0292), (51, 53): tensor(0.0203), (51, 54): tensor(0.0232), (51, 55): tensor(0.0039), (51, 56): tensor(0.0052), (51, 57): tensor(0.0416), (51, 58): tensor(0.0318), (51, 59): tensor(0.0204), (51, 60): tensor(0.0160), (51, 61): tensor(0.0407), (51, 62): tensor(0.0368), (51, 63): tensor(0.0025), (51, 64): tensor(0.0026), (51, 65): tensor(0.0192), (51, 66): tensor(0.0559), (51, 67): tensor(0.0840), (52, 53): tensor(0.0495), (52, 54): tensor(0.0525), (52, 55): tensor(0.0253), (52, 56): tensor(0.0345), (52, 57): tensor(0.0124), (52, 58): tensor(0.0025), (52, 59): tensor(0.0088), (52, 60): tensor(0.0132), (52, 61): tensor(0.0114), (52, 62): tensor(0.0076), (52, 63): tensor(0.0268), (52, 64): tensor(0.0266), (52, 65): tensor(0.0101), (52, 66): tensor(0.0266), (52, 67): tensor(0.0548), (53, 54): tensor(0.0030), (53, 55): tensor(0.0242), (53, 56): tensor(0.0150), (53, 57): tensor(0.0619), (53, 58): tensor(0.0521), (53, 59): tensor(0.0407), (53, 60): tensor(0.0363), (53, 61): tensor(0.0610), (53, 62): tensor(0.0571), (53, 63): tensor(0.0227), (53, 64): tensor(0.0229), (53, 65): tensor(0.0394), (53, 66): tensor(0.0761), (53, 67): tensor(0.1043), (54, 55): tensor(0.0272), (54, 56): tensor(0.0180), (54, 57): tensor(0.0649), (54, 58): tensor(0.0550), (54, 59): tensor(0.0437), (54, 60): tensor(0.0393), (54, 61): tensor(0.0639), (54, 62): tensor(0.0601), (54, 63): tensor(0.0257), (54, 64): tensor(0.0259), (54, 65): tensor(0.0424), (54, 66): tensor(0.0791), (54, 67): tensor(0.1072), (55, 56): tensor(0.0091), (55, 57): tensor(0.0377), (55, 58): tensor(0.0279), (55, 59): tensor(0.0165), (55, 60): tensor(0.0121), (55, 61): tensor(0.0368), (55, 62): tensor(0.0329), (55, 63): tensor(0.0015), (55, 64): tensor(0.0013), (55, 65): tensor(0.0153), (55, 66): tensor(0.0520), (55, 67): tensor(0.0801), (56, 57): tensor(0.0469), (56, 58): tensor(0.0370), (56, 59): tensor(0.0257), (56, 60): tensor(0.0213), (56, 61): tensor(0.0459), (56, 62): tensor(0.0421), (56, 63): tensor(0.0077), (56, 64): tensor(0.0079), (56, 65): tensor(0.0244), (56, 66): tensor(0.0611), (56, 67): tensor(0.0892), (57, 58): tensor(0.0099), (57, 59): tensor(0.0212), (57, 60): tensor(0.0256), (57, 61): tensor(0.0010), (57, 62): tensor(0.0048), (57, 63): tensor(0.0392), (57, 64): tensor(0.0390), (57, 65): tensor(0.0225), (57, 66): tensor(0.0142), (57, 67): tensor(0.0424), (58, 59): tensor(0.0114), (58, 60): tensor(0.0158), (58, 61): tensor(0.0089), (58, 62): tensor(0.0051), (58, 63): tensor(0.0293), (58, 64): tensor(0.0291), (58, 65): tensor(0.0126), (58, 66): tensor(0.0241), (58, 67): tensor(0.0522), (59, 60): tensor(0.0044), (59, 61): tensor(0.0203), (59, 62): tensor(0.0164), (59, 63): tensor(0.0180), (59, 64): tensor(0.0178), (59, 65): tensor(0.0013), (59, 66): tensor(0.0355), (59, 67): tensor(0.0636), (60, 61): tensor(0.0247), (60, 62): tensor(0.0208), (60, 63): tensor(0.0136), (60, 64): tensor(0.0134), (60, 65): tensor(0.0032), (60, 66): tensor(0.0399), (60, 67): tensor(0.0680), (61, 62): tensor(0.0038), (61, 63): tensor(0.0382), (61, 64): tensor(0.0380), (61, 65): tensor(0.0215), (61, 66): tensor(0.0152), (61, 67): tensor(0.0433), (62, 63): tensor(0.0344), (62, 64): tensor(0.0342), (62, 65): tensor(0.0177), (62, 66): tensor(0.0190), (62, 67): tensor(0.0472), (63, 64): tensor(0.0002), (63, 65): tensor(0.0167), (63, 66): tensor(0.0534), (63, 67): tensor(0.0815), (64, 65): tensor(0.0165), (64, 66): tensor(0.0532), (64, 67): tensor(0.0814), (65, 66): tensor(0.0367), (65, 67): tensor(0.0648), (66, 67): tensor(0.0281)}, 'fair': False}}\n",
      "[('persoon_geslacht_vrouw', tensor([[0.0000, 0.0459, 0.0954, 0.1767, 0.3066, 0.3976, 0.4722, 0.5637, 0.6997,\n",
      "         0.7425, 0.8783, 0.9477],\n",
      "        [1.0000, 0.1049, 0.1078, 0.2488, 0.3279, 0.4420, 0.4834, 0.6142, 0.7210,\n",
      "         0.8468, 0.8926, 0.9641]])), ('persoon_leeftijd_bij_onderzoek', tensor([[1.9000e+01, 1.0000e+00, 0.0000e+00, 0.0000e+00, 0.0000e+00, 0.0000e+00,\n",
      "         1.0000e+00, 3.3333e-01, 1.0000e+00, 1.0000e+00, 1.0000e+00, 1.0000e+00],\n",
      "        [2.0000e+01, 0.0000e+00, 0.0000e+00, 0.0000e+00, 1.0000e+00, 0.0000e+00,\n",
      "         1.0000e+00, 0.0000e+00, 1.0000e+00, 1.0000e+00, 0.0000e+00, 1.0000e+00],\n",
      "        [2.1000e+01, 0.0000e+00, 3.3333e-01, 0.0000e+00, 5.0000e-01, 5.0000e-01,\n",
      "         1.0000e+00, 1.0000e+00, 1.0000e+00, 1.0000e+00, 1.0000e+00, 0.0000e+00],\n",
      "        [2.2000e+01, 0.0000e+00, 0.0000e+00, 6.0000e-01, 3.3333e-01, 5.0000e-01,\n",
      "         6.6667e-01, 7.5000e-01, 1.0000e+00, 0.0000e+00, 1.0000e+00, 1.0000e+00],\n",
      "        [2.3000e+01, 5.0000e-01, 5.0000e-01, 6.2500e-01, 1.0000e+00, 7.5000e-01,\n",
      "         3.3333e-01, 1.0000e+00, 1.0000e+00, 1.0000e+00, 1.0000e+00, 1.0000e+00],\n",
      "        [2.4000e+01, 7.5000e-01, 1.6667e-01, 6.0000e-01, 5.0000e-01, 0.0000e+00,\n",
      "         7.5000e-01, 1.0000e+00, 1.0000e+00, 1.0000e+00, 1.0000e+00, 1.0000e+00],\n",
      "        [2.5000e+01, 0.0000e+00, 1.0000e-01, 0.0000e+00, 6.0000e-01, 4.0000e-01,\n",
      "         0.0000e+00, 2.0000e-01, 1.0000e+00, 1.0000e+00, 1.0000e+00, 1.0000e+00],\n",
      "        [2.6000e+01, 5.0000e-01, 3.3333e-01, 1.0000e+00, 6.0000e-01, 8.5714e-01,\n",
      "         1.0000e+00, 8.0000e-01, 1.0000e+00, 1.0000e+00, 1.0000e+00, 1.0000e+00],\n",
      "        [2.7000e+01, 5.0000e-01, 5.0000e-01, 5.0000e-01, 6.6667e-01, 7.2727e-01,\n",
      "         4.2857e-01, 8.7500e-01, 8.5714e-01, 1.0000e+00, 1.0000e+00, 1.0000e+00],\n",
      "        [2.8000e+01, 2.5000e-01, 2.7273e-01, 4.0000e-01, 4.1667e-01, 4.0000e-01,\n",
      "         7.0000e-01, 1.0000e+00, 8.7500e-01, 1.0000e+00, 1.0000e+00, 1.0000e+00],\n",
      "        [2.9000e+01, 1.0000e+00, 2.2222e-01, 4.0000e-01, 3.7500e-01, 6.6667e-01,\n",
      "         7.6923e-01, 1.0000e+00, 8.8889e-01, 1.0000e+00, 1.0000e+00, 1.0000e+00],\n",
      "        [3.0000e+01, 5.0000e-01, 3.0000e-01, 1.6667e-01, 5.0000e-01, 5.7143e-01,\n",
      "         5.0000e-01, 7.0000e-01, 1.0000e+00, 1.0000e+00, 1.0000e+00, 1.0000e+00],\n",
      "        [3.1000e+01, 3.3333e-01, 3.5714e-01, 5.7143e-01, 4.2857e-01, 8.1818e-01,\n",
      "         6.6667e-01, 7.5000e-01, 8.0000e-01, 1.0000e+00, 1.0000e+00, 1.0000e+00],\n",
      "        [3.2000e+01, 2.5000e-01, 3.0000e-01, 6.0000e-01, 4.0000e-01, 2.8571e-01,\n",
      "         6.2500e-01, 7.8571e-01, 9.4118e-01, 1.0000e+00, 1.0000e+00, 1.0000e+00],\n",
      "        [3.3000e+01, 1.4286e-01, 2.2222e-01, 2.0000e-01, 1.8182e-01, 4.5000e-01,\n",
      "         5.7143e-01, 8.4615e-01, 9.4118e-01, 1.0000e+00, 1.0000e+00, 1.0000e+00],\n",
      "        [3.4000e+01, 5.0000e-01, 2.6087e-01, 3.6364e-01, 4.2105e-01, 6.8750e-01,\n",
      "         4.2857e-01, 8.5714e-01, 8.2353e-01, 1.0000e+00, 1.0000e+00, 1.0000e+00],\n",
      "        [3.5000e+01, 0.0000e+00, 1.2500e-01, 4.7826e-01, 2.6667e-01, 5.9091e-01,\n",
      "         5.2941e-01, 8.0000e-01, 1.0000e+00, 9.1667e-01, 1.0000e+00, 1.0000e+00],\n",
      "        [3.6000e+01, 2.8571e-01, 2.5000e-01, 1.9048e-01, 2.5000e-01, 5.5556e-01,\n",
      "         5.5172e-01, 6.9565e-01, 7.6471e-01, 8.5000e-01, 1.0000e+00, 1.0000e+00],\n",
      "        [3.7000e+01, 2.5000e-01, 2.2727e-01, 2.7778e-01, 5.2941e-01, 5.2000e-01,\n",
      "         5.7895e-01, 8.2353e-01, 7.8571e-01, 1.0000e+00, 1.0000e+00, 1.0000e+00],\n",
      "        [3.8000e+01, 1.6667e-01, 2.3529e-01, 2.8000e-01, 3.1818e-01, 7.6190e-01,\n",
      "         7.0968e-01, 6.8421e-01, 8.5000e-01, 9.6429e-01, 1.0000e+00, 1.0000e+00],\n",
      "        [3.9000e+01, 1.0000e-01, 2.0000e-01, 3.9130e-01, 4.0000e-01, 3.3333e-01,\n",
      "         6.3889e-01, 6.4000e-01, 7.9310e-01, 8.6364e-01, 9.6429e-01, 1.0000e+00],\n",
      "        [4.0000e+01, 2.6667e-01, 2.1212e-01, 3.0556e-01, 5.4839e-01, 6.1111e-01,\n",
      "         5.6250e-01, 7.6000e-01, 8.8889e-01, 9.2105e-01, 9.6429e-01, 1.0000e+00],\n",
      "        [4.1000e+01, 0.0000e+00, 1.6129e-01, 2.3077e-01, 4.5946e-01, 6.5385e-01,\n",
      "         5.6667e-01, 7.5000e-01, 8.3333e-01, 8.7179e-01, 1.0000e+00, 1.0000e+00],\n",
      "        [4.2000e+01, 4.5455e-02, 1.6129e-01, 3.5714e-01, 4.5455e-01, 4.7059e-01,\n",
      "         6.8750e-01, 5.7143e-01, 8.1250e-01, 8.8889e-01, 9.6875e-01, 1.0000e+00],\n",
      "        [4.3000e+01, 4.7619e-02, 1.0256e-01, 3.0952e-01, 1.8750e-01, 4.8276e-01,\n",
      "         5.6098e-01, 6.5854e-01, 7.1053e-01, 7.6923e-01, 9.7059e-01, 1.0000e+00],\n",
      "        [4.4000e+01, 1.5000e-01, 2.8571e-02, 2.6829e-01, 5.2778e-01, 5.2273e-01,\n",
      "         5.0000e-01, 6.0465e-01, 7.7500e-01, 9.7436e-01, 9.6875e-01, 1.0000e+00],\n",
      "        [4.5000e+01, 5.0000e-02, 1.2195e-01, 2.1429e-01, 4.5455e-01, 3.4884e-01,\n",
      "         5.8065e-01, 6.1905e-01, 8.8636e-01, 7.8182e-01, 9.6875e-01, 1.0000e+00],\n",
      "        [4.6000e+01, 6.2500e-02, 1.1111e-01, 2.8261e-01, 3.0233e-01, 5.6522e-01,\n",
      "         5.4348e-01, 6.6667e-01, 7.6923e-01, 8.2759e-01, 8.8889e-01, 9.4444e-01],\n",
      "        [4.7000e+01, 5.0000e-02, 1.7241e-01, 2.5000e-01, 4.4444e-01, 4.8649e-01,\n",
      "         5.3448e-01, 6.5000e-01, 8.1395e-01, 7.8378e-01, 9.7368e-01, 1.0000e+00],\n",
      "        [4.8000e+01, 7.1429e-02, 1.3636e-01, 1.7742e-01, 3.9216e-01, 2.9412e-01,\n",
      "         4.6000e-01, 6.7500e-01, 7.2727e-01, 8.2609e-01, 8.9744e-01, 1.0000e+00],\n",
      "        [4.9000e+01, 9.0909e-02, 7.6923e-02, 2.1429e-01, 1.9048e-01, 4.3243e-01,\n",
      "         4.7059e-01, 6.2222e-01, 7.6744e-01, 8.4615e-01, 9.0566e-01, 1.0000e+00],\n",
      "        [5.0000e+01, 0.0000e+00, 9.3023e-02, 2.1569e-01, 2.8261e-01, 5.5102e-01,\n",
      "         4.5238e-01, 4.9057e-01, 7.0732e-01, 8.2000e-01, 7.3810e-01, 1.0000e+00],\n",
      "        [5.1000e+01, 0.0000e+00, 6.5217e-02, 1.8519e-01, 2.0455e-01, 5.0000e-01,\n",
      "         4.4898e-01, 6.6667e-01, 6.8627e-01, 6.6000e-01, 8.2500e-01, 9.6429e-01],\n",
      "        [5.2000e+01, 4.0000e-02, 8.8889e-02, 2.0000e-01, 3.7037e-01, 2.6316e-01,\n",
      "         4.0351e-01, 5.7895e-01, 7.2093e-01, 7.2727e-01, 8.7500e-01, 9.5455e-01],\n",
      "        [5.3000e+01, 0.0000e+00, 9.5238e-02, 1.8966e-01, 3.9216e-01, 2.5000e-01,\n",
      "         3.6000e-01, 5.8333e-01, 7.2000e-01, 8.0645e-01, 8.4091e-01, 9.0476e-01],\n",
      "        [5.4000e+01, 0.0000e+00, 1.3889e-01, 1.3725e-01, 2.5455e-01, 3.1915e-01,\n",
      "         4.7727e-01, 3.8636e-01, 6.8085e-01, 7.8378e-01, 8.0769e-01, 8.8462e-01],\n",
      "        [5.5000e+01, 4.0000e-02, 4.6512e-02, 1.4545e-01, 3.0769e-01, 4.1860e-01,\n",
      "         5.8000e-01, 4.8077e-01, 6.7391e-01, 8.6275e-01, 9.5455e-01, 1.0000e+00],\n",
      "        [5.6000e+01, 0.0000e+00, 2.1277e-02, 1.1111e-01, 3.1579e-01, 1.7073e-01,\n",
      "         4.6512e-01, 5.5814e-01, 5.9091e-01, 7.4286e-01, 8.7179e-01, 1.0000e+00],\n",
      "        [5.7000e+01, 0.0000e+00, 4.7619e-02, 2.0000e-01, 2.2581e-01, 4.3243e-01,\n",
      "         4.3590e-01, 4.2857e-01, 6.3830e-01, 7.2500e-01, 8.2500e-01, 8.9655e-01],\n",
      "        [5.8000e+01, 0.0000e+00, 1.8519e-02, 1.1364e-01, 2.4324e-01, 4.1667e-01,\n",
      "         3.4286e-01, 5.1786e-01, 4.6875e-01, 6.4865e-01, 8.8889e-01, 9.0000e-01],\n",
      "        [5.9000e+01, 0.0000e+00, 4.3478e-02, 1.3514e-01, 3.7500e-01, 2.5714e-01,\n",
      "         4.2105e-01, 4.1667e-01, 3.8636e-01, 6.8293e-01, 6.9697e-01, 8.8235e-01],\n",
      "        [6.0000e+01, 0.0000e+00, 0.0000e+00, 1.0345e-01, 1.7647e-01, 2.2449e-01,\n",
      "         2.6190e-01, 5.1220e-01, 5.6250e-01, 5.6250e-01, 8.1818e-01, 8.6364e-01],\n",
      "        [6.1000e+01, 0.0000e+00, 0.0000e+00, 1.3793e-01, 1.8421e-01, 3.2353e-01,\n",
      "         3.1429e-01, 4.7619e-01, 4.7222e-01, 6.4286e-01, 7.2727e-01, 8.4000e-01],\n",
      "        [6.2000e+01, 0.0000e+00, 0.0000e+00, 2.5000e-02, 1.6667e-01, 3.5294e-01,\n",
      "         2.5000e-01, 5.8065e-01, 6.0606e-01, 6.8293e-01, 6.8571e-01, 9.2308e-01],\n",
      "        [6.3000e+01, 0.0000e+00, 0.0000e+00, 1.2121e-01, 1.7143e-01, 2.9032e-01,\n",
      "         2.9412e-01, 5.2941e-01, 5.8621e-01, 5.5172e-01, 7.7419e-01, 9.0909e-01],\n",
      "        [6.4000e+01, 0.0000e+00, 0.0000e+00, 6.0606e-02, 0.0000e+00, 3.7931e-01,\n",
      "         3.4615e-01, 3.1034e-01, 4.7368e-01, 6.9565e-01, 7.7778e-01, 8.1818e-01],\n",
      "        [6.5000e+01, 0.0000e+00, 0.0000e+00, 1.0000e-01, 4.0000e-02, 2.9167e-01,\n",
      "         3.7500e-01, 4.7619e-01, 6.5714e-01, 5.2174e-01, 7.2000e-01, 9.0909e-01],\n",
      "        [6.6000e+01, 0.0000e+00, 0.0000e+00, 0.0000e+00, 1.2500e-01, 1.2500e-01,\n",
      "         2.3077e-01, 3.5714e-01, 5.5000e-01, 6.5000e-01, 8.8889e-01, 9.4118e-01],\n",
      "        [6.7000e+01, 0.0000e+00, 0.0000e+00, 0.0000e+00, 0.0000e+00, 3.3333e-01,\n",
      "         1.1111e-01, 5.0000e-01, 4.1667e-01, 8.3333e-01, 6.6667e-01, 8.0000e-01]]))]\n",
      "[('persoon_geslacht_vrouw', tensor([[0.0000, 0.6669, 0.3454],\n",
      "        [1.0000, 0.6476, 0.3305]], dtype=torch.float64)), ('persoon_leeftijd_bij_onderzoek', tensor([[19.0000,  0.6166,  0.5731],\n",
      "        [20.0000,  0.6807,  0.1210],\n",
      "        [21.0000,  0.6076,  0.2407],\n",
      "        [22.0000,  0.5706,  0.3206],\n",
      "        [23.0000,  0.5205,  0.2525],\n",
      "        [24.0000,  0.5929,  0.2306],\n",
      "        [25.0000,  0.6602,  0.2800],\n",
      "        [26.0000,  0.6216,  0.2281],\n",
      "        [27.0000,  0.5685,  0.3212],\n",
      "        [28.0000,  0.6046,  0.2459],\n",
      "        [29.0000,  0.6140,  0.2717],\n",
      "        [30.0000,  0.5890,  0.2708],\n",
      "        [31.0000,  0.5975,  0.2991],\n",
      "        [32.0000,  0.5966,  0.3099],\n",
      "        [33.0000,  0.6130,  0.2806],\n",
      "        [34.0000,  0.6077,  0.2847],\n",
      "        [35.0000,  0.6480,  0.2743],\n",
      "        [36.0000,  0.6375,  0.3085],\n",
      "        [37.0000,  0.6474,  0.2805],\n",
      "        [38.0000,  0.6262,  0.2791],\n",
      "        [39.0000,  0.6234,  0.3062],\n",
      "        [40.0000,  0.6366,  0.2799],\n",
      "        [41.0000,  0.6447,  0.3076],\n",
      "        [42.0000,  0.6270,  0.3153],\n",
      "        [43.0000,  0.6481,  0.3086],\n",
      "        [44.0000,  0.6324,  0.3097],\n",
      "        [45.0000,  0.6871,  0.3261],\n",
      "        [46.0000,  0.6177,  0.3200],\n",
      "        [47.0000,  0.6460,  0.3358],\n",
      "        [48.0000,  0.6555,  0.3158],\n",
      "        [49.0000,  0.6908,  0.3115],\n",
      "        [50.0000,  0.6512,  0.3543],\n",
      "        [51.0000,  0.6616,  0.3373],\n",
      "        [52.0000,  0.6644,  0.3495],\n",
      "        [53.0000,  0.6470,  0.3432],\n",
      "        [54.0000,  0.6560,  0.3482],\n",
      "        [55.0000,  0.6726,  0.3223],\n",
      "        [56.0000,  0.6893,  0.3406],\n",
      "        [57.0000,  0.6885,  0.3475],\n",
      "        [58.0000,  0.7064,  0.3481],\n",
      "        [59.0000,  0.6700,  0.3975],\n",
      "        [60.0000,  0.7090,  0.3847],\n",
      "        [61.0000,  0.7056,  0.4023],\n",
      "        [62.0000,  0.7177,  0.3581],\n",
      "        [63.0000,  0.6912,  0.3705],\n",
      "        [64.0000,  0.7206,  0.3565],\n",
      "        [65.0000,  0.7021,  0.3887],\n",
      "        [66.0000,  0.7847,  0.3742],\n",
      "        [67.0000,  0.7655,  0.4393]], dtype=torch.float64))]\n",
      "0.09519319319319319\n"
     ]
    }
   ],
   "source": [
    "for metric in using_metrics:\n",
    "    print(metric.show(True))"
   ]
  },
  {
   "cell_type": "code",
   "execution_count": 8,
   "id": "949e8a32",
   "metadata": {},
   "outputs": [
    {
     "data": {
      "application/vnd.jupyter.widget-view+json": {
       "model_id": "90fa806fad654023aded2a3ae1db95e6",
       "version_major": 2,
       "version_minor": 0
      },
      "text/plain": [
       "VBox(children=(Label(value='Select a name for your preset file here, This will be saved in the folder \"checkpo…"
      ]
     },
     "metadata": {},
     "output_type": "display_data"
    },
    {
     "data": {
      "application/vnd.jupyter.widget-view+json": {
       "model_id": "1bed874aa82d44cdaf40e5370644d358",
       "version_major": 2,
       "version_minor": 0
      },
      "text/plain": [
       "Output()"
      ]
     },
     "metadata": {},
     "output_type": "display_data"
    }
   ],
   "source": [
    "OUTPUT_FILE_NAME = Text(\n",
    "    placeholder='Type output file name',\n",
    "    description='File name:',\n",
    "    tooltip='do not forget the file extension'\n",
    ")\n",
    "FEEDBACK_INFO = Label(\n",
    "    value='',\n",
    ")\n",
    "SUBMIT_BUTTON = Button(\n",
    "    description='Save preset',\n",
    "    disabled=True,\n",
    "    button_style='danger',\n",
    "    tooltip='No file name',\n",
    ")\n",
    "\n",
    "info_box = VBox([\n",
    "    Label(value=f'Select a name for your preset file here, This will be saved in the folder \"{utils.SAVED_PRESET_PATH}\"'),\n",
    "    OUTPUT_FILE_NAME,\n",
    "    SUBMIT_BUTTON,\n",
    "    FEEDBACK_INFO,\n",
    "])\n",
    "\n",
    "output_savefile = widgets.Output()\n",
    "display(info_box, output_savefile)\n",
    "\n",
    "\n",
    "def update_file_name_info(id):\n",
    "    with output_savefile:\n",
    "        if type(id) == Button:\n",
    "            params = torch.load(utils.SAVED_PRESET_PATH + utils.RESEVERD_PRESET, weights_only=True)\n",
    "\n",
    "            torch.save(params, utils.SAVED_PRESET_PATH + OUTPUT_FILE_NAME.value)\n",
    "            FEEDBACK_INFO.value=f'Preset saved to \"{OUTPUT_FILE_NAME.value}\"'\n",
    "        \n",
    "        if type(id) == Text:\n",
    "            FEEDBACK_INFO.value=''\n",
    "        \n",
    "        file_exits = os.path.exists(utils.SAVED_PRESET_PATH + OUTPUT_FILE_NAME.value)\n",
    "        if OUTPUT_FILE_NAME.value == '':\n",
    "            SUBMIT_BUTTON.button_style='danger'\n",
    "            SUBMIT_BUTTON.tooltip='No file name'\n",
    "            SUBMIT_BUTTON.disabled=True\n",
    "        elif OUTPUT_FILE_NAME.value == 'session_save.pt':\n",
    "            SUBMIT_BUTTON.button_style='danger'\n",
    "            SUBMIT_BUTTON.tooltip='This file name is reserved'\n",
    "            SUBMIT_BUTTON.disabled=True\n",
    "        elif not OUTPUT_FILE_NAME.value.endswith('.pt'):\n",
    "            SUBMIT_BUTTON.button_style='warning'\n",
    "            SUBMIT_BUTTON.tooltip='Please make it a .pt file'\n",
    "            SUBMIT_BUTTON.disabled=False\n",
    "        elif file_exits:\n",
    "            SUBMIT_BUTTON.button_style='info'\n",
    "            SUBMIT_BUTTON.tooltip='A file already exists with this name, overwrite is possible'\n",
    "            SUBMIT_BUTTON.disabled=False\n",
    "        else:\n",
    "            SUBMIT_BUTTON.button_style='success'\n",
    "            SUBMIT_BUTTON.tooltip='Save file'\n",
    "            SUBMIT_BUTTON.disabled=False\n",
    "\n",
    "        \n",
    "OUTPUT_FILE_NAME.on_trait_change(update_file_name_info)\n",
    "SUBMIT_BUTTON.on_click(update_file_name_info)\n"
   ]
  },
  {
   "cell_type": "code",
   "execution_count": null,
   "id": "b976a8e3",
   "metadata": {},
   "outputs": [],
   "source": []
  }
 ],
 "metadata": {
  "kernelspec": {
   "display_name": "base",
   "language": "python",
   "name": "python3"
  },
  "language_info": {
   "codemirror_mode": {
    "name": "ipython",
    "version": 3
   },
   "file_extension": ".py",
   "mimetype": "text/x-python",
   "name": "python",
   "nbconvert_exporter": "python",
   "pygments_lexer": "ipython3",
   "version": "3.12.2"
  }
 },
 "nbformat": 4,
 "nbformat_minor": 5
}
