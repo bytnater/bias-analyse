{
 "cells": [
  {
   "cell_type": "code",
   "execution_count": 18,
   "id": "27aadd16",
   "metadata": {},
   "outputs": [],
   "source": [
    "import pandas as pd\n",
    "import numpy as np\n"
   ]
  },
  {
   "cell_type": "code",
   "execution_count": null,
   "id": "9f1ba0f9",
   "metadata": {},
   "outputs": [],
   "source": [
    "# Add the dataset and predictions together\n",
    "\n",
    "df = pd.read_csv('synth_data.csv')\n",
    "preds = pd.read_csv('predictions.csv')\n",
    "df['predictions'] = preds\n",
    "df.to_csv('synth_data_preds.csv')\n"
   ]
  },
  {
   "cell_type": "code",
   "execution_count": null,
   "id": "b9201224",
   "metadata": {},
   "outputs": [],
   "source": [
    "# Add a groundtruth based on the the predictions\n",
    "\n",
    "df = pd.read_csv('synth_data.csv')\n",
    "preds = pd.read_csv('predictions.csv')\n",
    "df['predictions'] = preds\n",
    "cutoff = df['predictions'].quantile(0.9)\n",
    "df['actual_outcome'] = (df['predictions'] > cutoff).astype(int)\n",
    "df.to_csv('altered_data/data_pred_ground_no_alter.csv')"
   ]
  },
  {
   "cell_type": "code",
   "execution_count": 40,
   "id": "9cd1be55",
   "metadata": {},
   "outputs": [],
   "source": [
    "# Add a groundtruth based on the the predictions added some randomizing using a beta distribution\n",
    "\n",
    "df = pd.read_csv('synth_data.csv')\n",
    "preds = pd.read_csv('predictions.csv')\n",
    "df['predictions'] = preds\n",
    "\n",
    "temp = pd.DataFrame(df['predictions'].clip(0.001, 0.999))\n",
    "\n",
    "scale = 100  # Higher = less randomness.\n",
    "alpha = temp['predictions'] * scale\n",
    "beta = (1 - temp['predictions']) * scale\n",
    "\n",
    "# Sample from Beta for each row\n",
    "temp['predictions'] = np.random.beta(alpha, beta)\n",
    "\n",
    "cutoff = temp['predictions'].quantile(0.9)\n",
    "df['actual_outcome'] = (temp['predictions'] > cutoff).astype(int)\n",
    "df.to_csv('altered_data/data_pred_ground_altered_pred.csv')"
   ]
  }
 ],
 "metadata": {
  "kernelspec": {
   "display_name": "base",
   "language": "python",
   "name": "python3"
  },
  "language_info": {
   "codemirror_mode": {
    "name": "ipython",
    "version": 3
   },
   "file_extension": ".py",
   "mimetype": "text/x-python",
   "name": "python",
   "nbconvert_exporter": "python",
   "pygments_lexer": "ipython3",
   "version": "3.12.2"
  }
 },
 "nbformat": 4,
 "nbformat_minor": 5
}
