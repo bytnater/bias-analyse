{
 "cells": [
  {
   "cell_type": "markdown",
   "id": "73e4c843",
   "metadata": {},
   "source": [
    "This file was created to add articifial ground truths to the our test data. Both the data and the predictions were extracted form [suspicion_machine](https://github.com/Lighthouse-Reports/suspicion_machine.git). Running this file will create a series of files to test the fairness metrics."
   ]
  },
  {
   "cell_type": "code",
   "execution_count": null,
   "id": "27aadd16",
   "metadata": {},
   "outputs": [],
   "source": [
    "import pandas as pd\n",
    "import numpy as np"
   ]
  },
  {
   "cell_type": "code",
   "execution_count": null,
   "id": "9f1ba0f9",
   "metadata": {},
   "outputs": [],
   "source": [
    "# Adding the dataset and predictions together\n",
    "\n",
    "df = pd.read_csv('synth_data.csv')\n",
    "preds = pd.read_csv('predictions.csv')\n",
    "df['predictions'] = preds\n",
    "df.to_csv('synth_data_preds.csv')\n"
   ]
  },
  {
   "cell_type": "code",
   "execution_count": null,
   "id": "b9201224",
   "metadata": {},
   "outputs": [],
   "source": [
    "# Add a groundtruth based on the the predictions (top 10 procent)\n",
    "\n",
    "df = pd.read_csv('synth_data.csv')\n",
    "preds = pd.read_csv('predictions.csv')\n",
    "df['predictions'] = preds\n",
    "cutoff = df['predictions'].quantile(0.9)\n",
    "df['actual_outcome'] = (df['predictions'] > cutoff).astype(int)\n",
    "df.to_csv('groundtruth_top10.csv')"
   ]
  },
  {
   "cell_type": "code",
   "execution_count": null,
   "id": "9cd1be55",
   "metadata": {},
   "outputs": [],
   "source": [
    "# Add a groundtruth based on the the predictions added some randomizing using a beta distribution\n",
    "\n",
    "df = pd.read_csv('synth_data.csv')\n",
    "preds = pd.read_csv('predictions.csv')\n",
    "df['predictions'] = preds\n",
    "\n",
    "temp = pd.DataFrame(df['predictions'].clip(0.001, 0.999))\n",
    "\n",
    "scale = 20  # Higher = less randomness.\n",
    "alpha = temp['predictions'] * scale\n",
    "beta = (1 - temp['predictions']) * scale\n",
    "\n",
    "# Sample from Beta for each row\n",
    "temp['predictions'] = np.random.beta(alpha, beta)\n",
    "\n",
    "cutoff = temp['predictions'].quantile(0.9)\n",
    "df['actual_outcome'] = (temp['predictions'] > cutoff).astype(int)\n",
    "df.to_csv('groundtruth_top10_noisy.csv')"
   ]
  },
  {
   "cell_type": "code",
   "execution_count": null,
   "id": "0dc211a4",
   "metadata": {},
   "outputs": [],
   "source": [
    "# same as above but with bias in age and gender\n",
    "\n",
    "df = pd.read_csv('synth_data.csv')\n",
    "preds = pd.read_csv('predictions.csv')\n",
    "df['predictions'] = preds\n",
    "\n",
    "temp = pd.DataFrame(df['predictions'].clip(0.001, 0.999))\n",
    "\n",
    "scale = 10  # Higher = less randomness.\n",
    "gender_bias = .5  # Positive = upward bias for women, negative = downward\n",
    "age_bias_strength = -0.1  # Each year adds this much bias\n",
    "\n",
    "alpha = temp['predictions'] * scale\n",
    "beta = (1 - temp['predictions']) * scale\n",
    "\n",
    "# Add gender bias\n",
    "gender_effect = df['persoon_geslacht_vrouw'] * gender_bias\n",
    "alpha += gender_effect\n",
    "beta -= gender_effect\n",
    "\n",
    "# Add age bias\n",
    "age_center = 50\n",
    "age_effect = (df['persoon_leeftijd_bij_onderzoek'] - age_center) * age_bias_strength\n",
    "alpha += age_effect\n",
    "beta -= age_effect\n",
    "\n",
    "alpha = np.clip(alpha, 0.001, None)\n",
    "beta = np.clip(beta, 0.001, None)\n",
    "\n",
    "# Sample from Beta for each row\n",
    "temp['predictions'] = np.random.beta(alpha, beta)\n",
    "\n",
    "cutoff = temp['predictions'].quantile(0.9)\n",
    "df['actual_outcome'] = (temp['predictions'] > cutoff).astype(int)\n",
    "df.to_csv('groundtruth_bias_age_gender.csv')"
   ]
  },
  {
   "cell_type": "code",
   "execution_count": null,
   "id": "95b1c2e5",
   "metadata": {},
   "outputs": [],
   "source": [
    "## random predictions but accurate\n",
    "\n",
    "df = pd.read_csv('synth_data.csv')\n",
    "preds = np.random.random(len(df))\n",
    "outcomes = np.array([1 if pred > np.random.random() else 0 for pred in preds])\n",
    "df['predictions'] = preds\n",
    "df['actual_outcome'] = outcomes\n",
    "df.to_csv('well_calibrated.csv')\n"
   ]
  },
  {
   "cell_type": "code",
   "execution_count": null,
   "id": "e5771026",
   "metadata": {},
   "outputs": [],
   "source": [
    "## random predictions but accurate and bias\n",
    "\n",
    "df = pd.read_csv('synth_data.csv')\n",
    "preds = np.random.random(len(df))\n",
    "\n",
    "temp = preds.clip(0.001, 0.999)\n",
    "\n",
    "scale = 10  # Higher = less randomness.\n",
    "gender_bias = .5  # Positive = upward bias for women, negative = downward\n",
    "age_bias_strength = -0.1  # Each year adds this much bias\n",
    "\n",
    "alpha = temp * scale\n",
    "beta = (1 - temp) * scale\n",
    "\n",
    "# Add gender bias\n",
    "gender_effect = (df['persoon_geslacht_vrouw'] - .5) * gender_bias\n",
    "alpha += gender_effect\n",
    "beta -= gender_effect\n",
    "\n",
    "# Add age bias\n",
    "age_center = 50\n",
    "age_effect = (df['persoon_leeftijd_bij_onderzoek'] - age_center) * age_bias_strength\n",
    "alpha += age_effect\n",
    "beta -= age_effect\n",
    "\n",
    "alpha = np.clip(alpha, 0.001, None)\n",
    "beta = np.clip(beta, 0.001, None)\n",
    "\n",
    "# Sample from Beta for each row\n",
    "temp = np.random.beta(alpha, beta)\n",
    "\n",
    "outcomes = np.array([1 if pred > np.random.random() else 0 for pred in temp])\n",
    "df['predictions'] = preds\n",
    "df['actual_outcome'] = outcomes\n",
    "df.to_csv('well_calibrated_bias.csv')\n"
   ]
  }
 ],
 "metadata": {
  "kernelspec": {
   "display_name": "base",
   "language": "python",
   "name": "python3"
  },
  "language_info": {
   "codemirror_mode": {
    "name": "ipython",
    "version": 3
   },
   "file_extension": ".py",
   "mimetype": "text/x-python",
   "name": "python",
   "nbconvert_exporter": "python",
   "pygments_lexer": "ipython3",
   "version": "3.12.2"
  }
 },
 "nbformat": 4,
 "nbformat_minor": 5
}
