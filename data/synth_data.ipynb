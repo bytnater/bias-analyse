{
 "cells": [
  {
   "cell_type": "code",
   "execution_count": 2,
   "id": "27aadd16",
   "metadata": {},
   "outputs": [],
   "source": [
    "import pandas as pd\n",
    "import numpy as np\n"
   ]
  },
  {
   "cell_type": "code",
   "execution_count": 3,
   "id": "9f1ba0f9",
   "metadata": {},
   "outputs": [],
   "source": [
    "# Add the dataset and predictions together\n",
    "\n",
    "df = pd.read_csv('synth_data.csv')\n",
    "preds = pd.read_csv('predictions.csv')\n",
    "df['predictions'] = preds\n",
    "df.to_csv('synth_data_preds.csv')\n"
   ]
  },
  {
   "cell_type": "code",
   "execution_count": 4,
   "id": "b9201224",
   "metadata": {},
   "outputs": [],
   "source": [
    "# Add a groundtruth based on the the predictions\n",
    "\n",
    "df = pd.read_csv('synth_data.csv')\n",
    "preds = pd.read_csv('predictions.csv')\n",
    "df['predictions'] = preds\n",
    "cutoff = df['predictions'].quantile(0.9)\n",
    "df['actual_outcome'] = (df['predictions'] > cutoff).astype(int)\n",
    "df.to_csv('altered_data/data_pred_ground_no_alter.csv')"
   ]
  },
  {
   "cell_type": "code",
   "execution_count": 5,
   "id": "9cd1be55",
   "metadata": {},
   "outputs": [],
   "source": [
    "# Add a groundtruth based on the the predictions added some randomizing using a beta distribution\n",
    "\n",
    "df = pd.read_csv('synth_data.csv')\n",
    "preds = pd.read_csv('predictions.csv')\n",
    "df['predictions'] = preds\n",
    "\n",
    "temp = pd.DataFrame(df['predictions'].clip(0.001, 0.999))\n",
    "\n",
    "scale = 20  # Higher = less randomness.\n",
    "alpha = temp['predictions'] * scale\n",
    "beta = (1 - temp['predictions']) * scale\n",
    "\n",
    "# Sample from Beta for each row\n",
    "temp['predictions'] = np.random.beta(alpha, beta)\n",
    "\n",
    "cutoff = temp['predictions'].quantile(0.9)\n",
    "df['actual_outcome'] = (temp['predictions'] > cutoff).astype(int)\n",
    "df.to_csv('altered_data/data_pred_ground_altered_pred.csv')"
   ]
  },
  {
   "cell_type": "code",
   "execution_count": 15,
   "id": "0dc211a4",
   "metadata": {},
   "outputs": [],
   "source": [
    "# same as above but with bias in age and gender\n",
    "\n",
    "df = pd.read_csv('synth_data.csv')\n",
    "preds = pd.read_csv('predictions.csv')\n",
    "df['predictions'] = preds\n",
    "\n",
    "temp = pd.DataFrame(df['predictions'].clip(0.001, 0.999))\n",
    "\n",
    "scale = 10  # Higher = less randomness.\n",
    "gender_bias = .5  # Positive = upward bias for women, negative = downward\n",
    "age_bias_strength = -0.1  # Each year adds this much bias\n",
    "\n",
    "alpha = temp['predictions'] * scale\n",
    "beta = (1 - temp['predictions']) * scale\n",
    "\n",
    "# Add gender bias\n",
    "gender_effect = df['persoon_geslacht_vrouw'] * gender_bias\n",
    "alpha += gender_effect\n",
    "beta -= gender_effect\n",
    "\n",
    "# Add age bias\n",
    "age_center = 50\n",
    "age_effect = (df['persoon_leeftijd_bij_onderzoek'] - age_center) * age_bias_strength\n",
    "alpha += age_effect\n",
    "beta -= age_effect\n",
    "\n",
    "alpha = np.clip(alpha, 0.001, None)\n",
    "beta = np.clip(beta, 0.001, None)\n",
    "\n",
    "# Sample from Beta for each row\n",
    "temp['predictions'] = np.random.beta(alpha, beta)\n",
    "\n",
    "cutoff = temp['predictions'].quantile(0.9)\n",
    "df['actual_outcome'] = (temp['predictions'] > cutoff).astype(int)\n",
    "df.to_csv('altered_data/data_pred_ground_altered_pred_biased.csv')"
   ]
  },
  {
   "cell_type": "code",
   "execution_count": 14,
   "id": "95b1c2e5",
   "metadata": {},
   "outputs": [
    {
     "name": "stdout",
     "output_type": "stream",
     "text": [
      "5.0 5.0\n",
      "8.0 2.0\n"
     ]
    }
   ],
   "source": [
    "pred = .5\n",
    "scale = 10  # Higher = less randomness.\n",
    "gender_bias = .5  # Positive = upward bias for women, negative = downward\n",
    "age_bias_strength = -.1  # Each year adds this much bias\n",
    "\n",
    "alpha = pred * scale\n",
    "beta = (1 - pred) * scale\n",
    "\n",
    "print(alpha, beta)\n",
    "\n",
    "# Add gender bias\n",
    "gender_effect = 0 * gender_bias\n",
    "alpha += gender_effect\n",
    "beta -= gender_effect\n",
    "\n",
    "# Add age bias\n",
    "age_center = 50\n",
    "age_effect = (20 - age_center) * age_bias_strength\n",
    "alpha += age_effect\n",
    "beta -= age_effect\n",
    "\n",
    "print(alpha, beta)\n",
    "\n",
    "# persoon_geslacht_vrouw\n",
    "# persoon_leeftijd_bij_onderzoek"
   ]
  }
 ],
 "metadata": {
  "kernelspec": {
   "display_name": "base",
   "language": "python",
   "name": "python3"
  },
  "language_info": {
   "codemirror_mode": {
    "name": "ipython",
    "version": 3
   },
   "file_extension": ".py",
   "mimetype": "text/x-python",
   "name": "python",
   "nbconvert_exporter": "python",
   "pygments_lexer": "ipython3",
   "version": "3.12.2"
  }
 },
 "nbformat": 4,
 "nbformat_minor": 5
}
