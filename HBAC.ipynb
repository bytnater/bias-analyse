{
 "cells": [
  {
   "cell_type": "markdown",
   "metadata": {},
   "source": [
    "### Hierarchical Bias-Aware Clustering (HBAC)\n",
    "\n",
    "In this notebook we experimented with HBAC according to our interpretation of the paper [Auditing a dutch public sector risk profiling algorithm using an unsupervised bias detection tool](https://arxiv.org/pdf/2502.01713). Due to the time constrain of this project and the lack of clarity in the paper on certain details of an implementation, we are not certain if our implementation is what the author of the paper had in mind. We suggest that those who are interrested in this subject do further research and experiment for themselves.\n",
    "\n",
    "In our implementation K-modes is used for making the clusters, which causes the interpretability of the algorithm's output to be difficult. We made an atempt at an example interpretation but we cannot be certain this is correct due to a lack of transparency in the prediction of K-modes."
   ]
  },
  {
   "cell_type": "code",
   "execution_count": 9,
   "metadata": {},
   "outputs": [
    {
     "name": "stdout",
     "output_type": "stream",
     "text": [
      "loaded statisctical\n"
     ]
    }
   ],
   "source": [
    "import numpy as np\n",
    "import pandas as pd\n",
    "from collections import deque\n",
    "from kmodes.kmodes import KModes\n",
    "import plotly.graph_objects as go\n",
    "\n",
    "import torch\n",
    "\n",
    "from fairness_metrics.Predicted_outcomes.statistical_parity import statistical_parity"
   ]
  },
  {
   "cell_type": "code",
   "execution_count": null,
   "metadata": {},
   "outputs": [
    {
     "data": {
      "application/vnd.plotly.v1+json": {
       "config": {
        "plotlyServerURL": "https://plot.ly"
       },
       "data": [
        {
         "name": "Statistical Parity Difference",
         "type": "bar",
         "x": [
          "4",
          "5",
          "10",
          "11",
          "12",
          "13",
          "14",
          "15",
          "16"
         ],
         "y": [
          0.039603933691978455,
          0.031049050390720367,
          0.045630015432834625,
          0.01856696605682373,
          0.032573848962783813,
          0.018152371048927307,
          0.015250124037265778,
          0.07152880728244781,
          0.023851051926612854
         ]
        }
       ],
       "layout": {
        "template": {
         "data": {
          "bar": [
           {
            "error_x": {
             "color": "#2a3f5f"
            },
            "error_y": {
             "color": "#2a3f5f"
            },
            "marker": {
             "line": {
              "color": "#E5ECF6",
              "width": 0.5
             },
             "pattern": {
              "fillmode": "overlay",
              "size": 10,
              "solidity": 0.2
             }
            },
            "type": "bar"
           }
          ],
          "barpolar": [
           {
            "marker": {
             "line": {
              "color": "#E5ECF6",
              "width": 0.5
             },
             "pattern": {
              "fillmode": "overlay",
              "size": 10,
              "solidity": 0.2
             }
            },
            "type": "barpolar"
           }
          ],
          "carpet": [
           {
            "aaxis": {
             "endlinecolor": "#2a3f5f",
             "gridcolor": "white",
             "linecolor": "white",
             "minorgridcolor": "white",
             "startlinecolor": "#2a3f5f"
            },
            "baxis": {
             "endlinecolor": "#2a3f5f",
             "gridcolor": "white",
             "linecolor": "white",
             "minorgridcolor": "white",
             "startlinecolor": "#2a3f5f"
            },
            "type": "carpet"
           }
          ],
          "choropleth": [
           {
            "colorbar": {
             "outlinewidth": 0,
             "ticks": ""
            },
            "type": "choropleth"
           }
          ],
          "contour": [
           {
            "colorbar": {
             "outlinewidth": 0,
             "ticks": ""
            },
            "colorscale": [
             [
              0,
              "#0d0887"
             ],
             [
              0.1111111111111111,
              "#46039f"
             ],
             [
              0.2222222222222222,
              "#7201a8"
             ],
             [
              0.3333333333333333,
              "#9c179e"
             ],
             [
              0.4444444444444444,
              "#bd3786"
             ],
             [
              0.5555555555555556,
              "#d8576b"
             ],
             [
              0.6666666666666666,
              "#ed7953"
             ],
             [
              0.7777777777777778,
              "#fb9f3a"
             ],
             [
              0.8888888888888888,
              "#fdca26"
             ],
             [
              1,
              "#f0f921"
             ]
            ],
            "type": "contour"
           }
          ],
          "contourcarpet": [
           {
            "colorbar": {
             "outlinewidth": 0,
             "ticks": ""
            },
            "type": "contourcarpet"
           }
          ],
          "heatmap": [
           {
            "colorbar": {
             "outlinewidth": 0,
             "ticks": ""
            },
            "colorscale": [
             [
              0,
              "#0d0887"
             ],
             [
              0.1111111111111111,
              "#46039f"
             ],
             [
              0.2222222222222222,
              "#7201a8"
             ],
             [
              0.3333333333333333,
              "#9c179e"
             ],
             [
              0.4444444444444444,
              "#bd3786"
             ],
             [
              0.5555555555555556,
              "#d8576b"
             ],
             [
              0.6666666666666666,
              "#ed7953"
             ],
             [
              0.7777777777777778,
              "#fb9f3a"
             ],
             [
              0.8888888888888888,
              "#fdca26"
             ],
             [
              1,
              "#f0f921"
             ]
            ],
            "type": "heatmap"
           }
          ],
          "heatmapgl": [
           {
            "colorbar": {
             "outlinewidth": 0,
             "ticks": ""
            },
            "colorscale": [
             [
              0,
              "#0d0887"
             ],
             [
              0.1111111111111111,
              "#46039f"
             ],
             [
              0.2222222222222222,
              "#7201a8"
             ],
             [
              0.3333333333333333,
              "#9c179e"
             ],
             [
              0.4444444444444444,
              "#bd3786"
             ],
             [
              0.5555555555555556,
              "#d8576b"
             ],
             [
              0.6666666666666666,
              "#ed7953"
             ],
             [
              0.7777777777777778,
              "#fb9f3a"
             ],
             [
              0.8888888888888888,
              "#fdca26"
             ],
             [
              1,
              "#f0f921"
             ]
            ],
            "type": "heatmapgl"
           }
          ],
          "histogram": [
           {
            "marker": {
             "pattern": {
              "fillmode": "overlay",
              "size": 10,
              "solidity": 0.2
             }
            },
            "type": "histogram"
           }
          ],
          "histogram2d": [
           {
            "colorbar": {
             "outlinewidth": 0,
             "ticks": ""
            },
            "colorscale": [
             [
              0,
              "#0d0887"
             ],
             [
              0.1111111111111111,
              "#46039f"
             ],
             [
              0.2222222222222222,
              "#7201a8"
             ],
             [
              0.3333333333333333,
              "#9c179e"
             ],
             [
              0.4444444444444444,
              "#bd3786"
             ],
             [
              0.5555555555555556,
              "#d8576b"
             ],
             [
              0.6666666666666666,
              "#ed7953"
             ],
             [
              0.7777777777777778,
              "#fb9f3a"
             ],
             [
              0.8888888888888888,
              "#fdca26"
             ],
             [
              1,
              "#f0f921"
             ]
            ],
            "type": "histogram2d"
           }
          ],
          "histogram2dcontour": [
           {
            "colorbar": {
             "outlinewidth": 0,
             "ticks": ""
            },
            "colorscale": [
             [
              0,
              "#0d0887"
             ],
             [
              0.1111111111111111,
              "#46039f"
             ],
             [
              0.2222222222222222,
              "#7201a8"
             ],
             [
              0.3333333333333333,
              "#9c179e"
             ],
             [
              0.4444444444444444,
              "#bd3786"
             ],
             [
              0.5555555555555556,
              "#d8576b"
             ],
             [
              0.6666666666666666,
              "#ed7953"
             ],
             [
              0.7777777777777778,
              "#fb9f3a"
             ],
             [
              0.8888888888888888,
              "#fdca26"
             ],
             [
              1,
              "#f0f921"
             ]
            ],
            "type": "histogram2dcontour"
           }
          ],
          "mesh3d": [
           {
            "colorbar": {
             "outlinewidth": 0,
             "ticks": ""
            },
            "type": "mesh3d"
           }
          ],
          "parcoords": [
           {
            "line": {
             "colorbar": {
              "outlinewidth": 0,
              "ticks": ""
             }
            },
            "type": "parcoords"
           }
          ],
          "pie": [
           {
            "automargin": true,
            "type": "pie"
           }
          ],
          "scatter": [
           {
            "fillpattern": {
             "fillmode": "overlay",
             "size": 10,
             "solidity": 0.2
            },
            "type": "scatter"
           }
          ],
          "scatter3d": [
           {
            "line": {
             "colorbar": {
              "outlinewidth": 0,
              "ticks": ""
             }
            },
            "marker": {
             "colorbar": {
              "outlinewidth": 0,
              "ticks": ""
             }
            },
            "type": "scatter3d"
           }
          ],
          "scattercarpet": [
           {
            "marker": {
             "colorbar": {
              "outlinewidth": 0,
              "ticks": ""
             }
            },
            "type": "scattercarpet"
           }
          ],
          "scattergeo": [
           {
            "marker": {
             "colorbar": {
              "outlinewidth": 0,
              "ticks": ""
             }
            },
            "type": "scattergeo"
           }
          ],
          "scattergl": [
           {
            "marker": {
             "colorbar": {
              "outlinewidth": 0,
              "ticks": ""
             }
            },
            "type": "scattergl"
           }
          ],
          "scattermapbox": [
           {
            "marker": {
             "colorbar": {
              "outlinewidth": 0,
              "ticks": ""
             }
            },
            "type": "scattermapbox"
           }
          ],
          "scatterpolar": [
           {
            "marker": {
             "colorbar": {
              "outlinewidth": 0,
              "ticks": ""
             }
            },
            "type": "scatterpolar"
           }
          ],
          "scatterpolargl": [
           {
            "marker": {
             "colorbar": {
              "outlinewidth": 0,
              "ticks": ""
             }
            },
            "type": "scatterpolargl"
           }
          ],
          "scatterternary": [
           {
            "marker": {
             "colorbar": {
              "outlinewidth": 0,
              "ticks": ""
             }
            },
            "type": "scatterternary"
           }
          ],
          "surface": [
           {
            "colorbar": {
             "outlinewidth": 0,
             "ticks": ""
            },
            "colorscale": [
             [
              0,
              "#0d0887"
             ],
             [
              0.1111111111111111,
              "#46039f"
             ],
             [
              0.2222222222222222,
              "#7201a8"
             ],
             [
              0.3333333333333333,
              "#9c179e"
             ],
             [
              0.4444444444444444,
              "#bd3786"
             ],
             [
              0.5555555555555556,
              "#d8576b"
             ],
             [
              0.6666666666666666,
              "#ed7953"
             ],
             [
              0.7777777777777778,
              "#fb9f3a"
             ],
             [
              0.8888888888888888,
              "#fdca26"
             ],
             [
              1,
              "#f0f921"
             ]
            ],
            "type": "surface"
           }
          ],
          "table": [
           {
            "cells": {
             "fill": {
              "color": "#EBF0F8"
             },
             "line": {
              "color": "white"
             }
            },
            "header": {
             "fill": {
              "color": "#C8D4E3"
             },
             "line": {
              "color": "white"
             }
            },
            "type": "table"
           }
          ]
         },
         "layout": {
          "annotationdefaults": {
           "arrowcolor": "#2a3f5f",
           "arrowhead": 0,
           "arrowwidth": 1
          },
          "autotypenumbers": "strict",
          "coloraxis": {
           "colorbar": {
            "outlinewidth": 0,
            "ticks": ""
           }
          },
          "colorscale": {
           "diverging": [
            [
             0,
             "#8e0152"
            ],
            [
             0.1,
             "#c51b7d"
            ],
            [
             0.2,
             "#de77ae"
            ],
            [
             0.3,
             "#f1b6da"
            ],
            [
             0.4,
             "#fde0ef"
            ],
            [
             0.5,
             "#f7f7f7"
            ],
            [
             0.6,
             "#e6f5d0"
            ],
            [
             0.7,
             "#b8e186"
            ],
            [
             0.8,
             "#7fbc41"
            ],
            [
             0.9,
             "#4d9221"
            ],
            [
             1,
             "#276419"
            ]
           ],
           "sequential": [
            [
             0,
             "#0d0887"
            ],
            [
             0.1111111111111111,
             "#46039f"
            ],
            [
             0.2222222222222222,
             "#7201a8"
            ],
            [
             0.3333333333333333,
             "#9c179e"
            ],
            [
             0.4444444444444444,
             "#bd3786"
            ],
            [
             0.5555555555555556,
             "#d8576b"
            ],
            [
             0.6666666666666666,
             "#ed7953"
            ],
            [
             0.7777777777777778,
             "#fb9f3a"
            ],
            [
             0.8888888888888888,
             "#fdca26"
            ],
            [
             1,
             "#f0f921"
            ]
           ],
           "sequentialminus": [
            [
             0,
             "#0d0887"
            ],
            [
             0.1111111111111111,
             "#46039f"
            ],
            [
             0.2222222222222222,
             "#7201a8"
            ],
            [
             0.3333333333333333,
             "#9c179e"
            ],
            [
             0.4444444444444444,
             "#bd3786"
            ],
            [
             0.5555555555555556,
             "#d8576b"
            ],
            [
             0.6666666666666666,
             "#ed7953"
            ],
            [
             0.7777777777777778,
             "#fb9f3a"
            ],
            [
             0.8888888888888888,
             "#fdca26"
            ],
            [
             1,
             "#f0f921"
            ]
           ]
          },
          "colorway": [
           "#636efa",
           "#EF553B",
           "#00cc96",
           "#ab63fa",
           "#FFA15A",
           "#19d3f3",
           "#FF6692",
           "#B6E880",
           "#FF97FF",
           "#FECB52"
          ],
          "font": {
           "color": "#2a3f5f"
          },
          "geo": {
           "bgcolor": "white",
           "lakecolor": "white",
           "landcolor": "#E5ECF6",
           "showlakes": true,
           "showland": true,
           "subunitcolor": "white"
          },
          "hoverlabel": {
           "align": "left"
          },
          "hovermode": "closest",
          "mapbox": {
           "style": "light"
          },
          "paper_bgcolor": "white",
          "plot_bgcolor": "#E5ECF6",
          "polar": {
           "angularaxis": {
            "gridcolor": "white",
            "linecolor": "white",
            "ticks": ""
           },
           "bgcolor": "#E5ECF6",
           "radialaxis": {
            "gridcolor": "white",
            "linecolor": "white",
            "ticks": ""
           }
          },
          "scene": {
           "xaxis": {
            "backgroundcolor": "#E5ECF6",
            "gridcolor": "white",
            "gridwidth": 2,
            "linecolor": "white",
            "showbackground": true,
            "ticks": "",
            "zerolinecolor": "white"
           },
           "yaxis": {
            "backgroundcolor": "#E5ECF6",
            "gridcolor": "white",
            "gridwidth": 2,
            "linecolor": "white",
            "showbackground": true,
            "ticks": "",
            "zerolinecolor": "white"
           },
           "zaxis": {
            "backgroundcolor": "#E5ECF6",
            "gridcolor": "white",
            "gridwidth": 2,
            "linecolor": "white",
            "showbackground": true,
            "ticks": "",
            "zerolinecolor": "white"
           }
          },
          "shapedefaults": {
           "line": {
            "color": "#2a3f5f"
           }
          },
          "ternary": {
           "aaxis": {
            "gridcolor": "white",
            "linecolor": "white",
            "ticks": ""
           },
           "baxis": {
            "gridcolor": "white",
            "linecolor": "white",
            "ticks": ""
           },
           "bgcolor": "#E5ECF6",
           "caxis": {
            "gridcolor": "white",
            "linecolor": "white",
            "ticks": ""
           }
          },
          "title": {
           "x": 0.05
          },
          "xaxis": {
           "automargin": true,
           "gridcolor": "white",
           "linecolor": "white",
           "ticks": "",
           "title": {
            "standoff": 15
           },
           "zerolinecolor": "white",
           "zerolinewidth": 2
          },
          "yaxis": {
           "automargin": true,
           "gridcolor": "white",
           "linecolor": "white",
           "ticks": "",
           "title": {
            "standoff": 15
           },
           "zerolinecolor": "white",
           "zerolinewidth": 2
          }
         }
        },
        "title": {
         "text": "SPD per Cluster in Final HBCA Tree"
        },
        "xaxis": {
         "title": {
          "text": "Cluster ID"
         }
        },
        "yaxis": {
         "title": {
          "text": "Statistical Parity Difference"
         }
        }
       }
      }
     },
     "metadata": {},
     "output_type": "display_data"
    }
   ],
   "source": [
    "df = pd.read_csv(\"data/altered_data/data_pred_ground_altered_pred.csv\")\n",
    "\n",
    "df['bin_predictions'] = [1 if i > 0.7 else 0 for i in df['predictions']] # For probability predictions -> above 0.7 will be classified as a 1 else 0\n",
    "\n",
    "# Features taken into account when clustering with K-modes\n",
    "features = [col for col in df.columns if col !='predictions' and col !='bin_predictions' and col !='actual_outcome' and col !='cluster' and col != 'Unnamed: 0']\n",
    "X = df[features].astype(str).values\n",
    "y = df['bin_predictions'].values\n",
    "\n",
    "# Iterations of clustering algorithm\n",
    "max_iter = 10\n",
    "\n",
    "# Smallest number of samples a cluster is allowed to have\n",
    "min_size = 50\n",
    "\n",
    "# The collumn we look at when computing the bias\n",
    "bias_test_cols = 'persoon_geslacht_vrouw'\n",
    "\n",
    "\n",
    "class Dataset:\n",
    "    \"\"\"\n",
    "    Class for structuring the dataset\n",
    "    \"\"\"\n",
    "    def __init__(self, df):\n",
    "        data = torch.tensor(df.values, dtype=torch.float)\n",
    "        self.data = data\n",
    "        self.columns = df.columns.tolist()\n",
    "        self.i2c = self.columns\n",
    "        self.c2i = {name: i for i, name in enumerate(self.columns)}\n",
    "\n",
    "\n",
    "class ClusterNode:\n",
    "    \"\"\"\n",
    "    Class to keep track of the data for each cluster\n",
    "    \"\"\"\n",
    "    def __init__(self, indices, cluster_id):\n",
    "        self.indices = indices\n",
    "        self.left = None\n",
    "        self.right = None\n",
    "        self.cluster_id = cluster_id\n",
    "\n",
    "\n",
    "def compute_bias(sub_df, bias_test_cols):\n",
    "    \"\"\"\n",
    "    Computes biggest difference in positive prediction chance between all group of the given collumn\n",
    "    \"\"\"\n",
    "    wrapped = Dataset(sub_df)\n",
    "\n",
    "    attr = bias_test_cols\n",
    "    params = {\n",
    "        'prediction_column': 'bin_predictions',\n",
    "        'ground_truth_column': 'ground_truth',\n",
    "        'protected_values': torch.tensor([col == attr for col in sub_df.columns])\n",
    "    }\n",
    "\n",
    "    metric = statistical_parity(wrapped, params)\n",
    "    results = metric.show(raw_results=True)\n",
    "\n",
    "    group_probs = results[attr]['group_probs']\n",
    "    probs = list(group_probs.values())\n",
    "    assert len(probs) >= 2, 'The chosen attribute to test fairness on has only one group, thus we cannot calculate the difference'\n",
    "    diff = abs(max(probs) - min(probs))\n",
    "    return diff\n",
    "\n",
    "        \n",
    "\n",
    "def hbca_tree(X, y, df, max_iter, min_size=50):\n",
    "    \"\"\"\n",
    "    Clustering algorithm which uses K-modes to make clusters which are then compared and \n",
    "    \"\"\"\n",
    "    cluster_counter = 1\n",
    "    root = ClusterNode(np.arange(len(y)), cluster_id=0)\n",
    "    queue = deque([root])\n",
    "\n",
    "    df['cluster'] = -1\n",
    "    df.loc[df.index[root.indices], 'cluster'] = 0\n",
    "\n",
    "    cluster_spd_log = {}\n",
    "\n",
    "    for _ in range(max_iter):\n",
    "        if queue:\n",
    "            node = queue.popleft()\n",
    "\n",
    "            if len(node.indices) >= 2 * min_size:\n",
    "                kmodes = KModes(n_clusters=2)\n",
    "                labels = kmodes.fit_predict(X[node.indices]) # K-modes to split the data on the features\n",
    "\n",
    "                left_indices = node.indices[labels == 0]\n",
    "                right_indices = node.indices[labels == 1]\n",
    "\n",
    "                parent_df = df.iloc[node.indices]\n",
    "                left_df = df.iloc[left_indices]\n",
    "                right_df = df.iloc[right_indices]\n",
    "\n",
    "                # calculate bias in the sets\n",
    "                spd_parent = compute_bias(parent_df, bias_test_cols)\n",
    "                spd_left = compute_bias(left_df, bias_test_cols)\n",
    "                spd_right = compute_bias(right_df, bias_test_cols)\n",
    "\n",
    "                # if there is more bias in a split, add the splits to the data and remove the set before splitting\n",
    "                if max(spd_left, spd_right) > spd_parent and (len(left_indices) >= min_size or len(right_indices) >= min_size):\n",
    "                    left_id = cluster_counter\n",
    "                    right_id = cluster_counter + 1\n",
    "                    cluster_counter += 2\n",
    "\n",
    "                    df.loc[df.index[left_indices], 'cluster'] = left_id\n",
    "                    df.loc[df.index[right_indices], 'cluster'] = right_id\n",
    "\n",
    "                    node.left = ClusterNode(left_indices, cluster_id=cluster_counter - 2)\n",
    "                    node.right = ClusterNode(right_indices, cluster_id=cluster_counter - 1)\n",
    "\n",
    "                    queue.extend([node.left, node.right])\n",
    "\n",
    "                    if node.cluster_id in cluster_spd_log:\n",
    "                        cluster_spd_log.__delitem__(node.cluster_id)\n",
    "\n",
    "                    cluster_spd_log[left_id] = spd_left\n",
    "                    cluster_spd_log[right_id] = spd_right\n",
    "                else:\n",
    "                    # If there isn't more bias in a split, keep the non-splitted set\n",
    "                    cluster_spd_log[node.cluster_id] = spd_parent\n",
    "\n",
    "    return df, cluster_spd_log\n",
    "\n",
    "\n",
    "df, cluster_spd_log = hbca_tree(X, y, df, max_iter, min_size) # run algorithm\n",
    "\n",
    "\n",
    "# \n",
    "sorted_clusters = sorted(cluster_spd_log.items())\n",
    "cluster_ids = [str(k) for k, _ in sorted_clusters]\n",
    "spd_values = [v for _, v in sorted_clusters]\n",
    "\n",
    "fig = go.Figure()\n",
    "\n",
    "fig.add_trace(go.Bar(\n",
    "    x=cluster_ids,\n",
    "    y=spd_values,\n",
    "    name='Statistical Parity Difference',\n",
    "))\n",
    "\n",
    "fig.update_layout(\n",
    "    title='SPD per Cluster in Final HBCA Tree',\n",
    "    xaxis_title='Cluster ID',\n",
    "    yaxis_title='Statistical Parity Difference',\n",
    ")\n",
    "\n",
    "fig.show()"
   ]
  },
  {
   "cell_type": "markdown",
   "metadata": {},
   "source": [
    "### Example interpretation\n",
    "\n",
    "In the example given above we look at the bias between man and women and split the data when there is more bias in a split of a cluster than the cluster itself. By analysing the clusters where the differences between man and women are high we might find values of features that correspond to a increase in bias. If for example, an certain nationality is more prominent in a cluster with high bias, we can conclude that man and women of that nationality are not treated equally."
   ]
  }
 ],
 "metadata": {
  "kernelspec": {
   "display_name": "jupyterbook",
   "language": "python",
   "name": "python3"
  },
  "language_info": {
   "codemirror_mode": {
    "name": "ipython",
    "version": 3
   },
   "file_extension": ".py",
   "mimetype": "text/x-python",
   "name": "python",
   "nbconvert_exporter": "python",
   "pygments_lexer": "ipython3",
   "version": "3.10.14"
  }
 },
 "nbformat": 4,
 "nbformat_minor": 2
}
