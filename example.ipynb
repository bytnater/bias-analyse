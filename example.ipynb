{
 "cells": [
  {
   "cell_type": "code",
   "execution_count": 1,
   "id": "5b70a3da",
   "metadata": {},
   "outputs": [],
   "source": [
    "import utils\n"
   ]
  },
  {
   "cell_type": "code",
   "execution_count": 2,
   "id": "5dfa466f",
   "metadata": {},
   "outputs": [],
   "source": [
    "data, (i2c, c2i) = utils.load_csv_to_torch(utils.DATA_PATH_SYNTH)\n",
    "data = data.int() # synthetic data only has integers\n",
    "\n",
    "# i2c: maps indices to column names\n",
    "# c2i: maps column names to indices"
   ]
  },
  {
   "cell_type": "code",
   "execution_count": null,
   "id": "5f2ca320",
   "metadata": {},
   "outputs": [],
   "source": [
    "# Get column\n",
    "data[:, c2i['adres_aantal_brp_adres']]"
   ]
  }
 ],
 "metadata": {
  "kernelspec": {
   "display_name": "tjp",
   "language": "python",
   "name": "python3"
  },
  "language_info": {
   "codemirror_mode": {
    "name": "ipython",
    "version": 3
   },
   "file_extension": ".py",
   "mimetype": "text/x-python",
   "name": "python",
   "nbconvert_exporter": "python",
   "pygments_lexer": "ipython3",
   "version": "3.10.18"
  }
 },
 "nbformat": 4,
 "nbformat_minor": 5
}
